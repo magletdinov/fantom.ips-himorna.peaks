{
 "cells": [
  {
   "cell_type": "code",
   "execution_count": 1,
   "id": "875952a1-a50f-4e65-ac73-3252df1d9917",
   "metadata": {},
   "outputs": [],
   "source": [
    "from pathlib import Path\n",
    "import h5py\n",
    "import pandas as pd\n",
    "import numpy as np\n",
    "from joblib import Parallel, delayed\n",
    "import subprocess\n",
    "import pybedtools"
   ]
  },
  {
   "cell_type": "code",
   "execution_count": 2,
   "id": "ebfb6311-0e56-47a3-b898-3f43e3931c9b",
   "metadata": {},
   "outputs": [],
   "source": [
    "DATA = Path(\"../data\")\n",
    "METHYL = DATA / \"methylation_peaks\"\n",
    "METHYL_CONCAT = DATA / \"methylation_peaks_concat\"\n",
    "ANNO = Path(\"/export/home/public/agletdinov_shared/annotations\")\n",
    "PREPROCESSING = Path(\"../preprocessing\")\n",
    "METHYL_INDEX = PREPROCESSING / \"methyl_index\"\n",
    "METHYL_BED = PREPROCESSING / \"methyl_bed\""
   ]
  },
  {
   "cell_type": "code",
   "execution_count": 3,
   "id": "cc1a756e-aa34-46a6-aa19-39c14a26ed54",
   "metadata": {},
   "outputs": [],
   "source": [
    "import gzip\n",
    "import pandas as pd\n",
    "\n",
    "# Функция для чтения GTF-файла и подсчета уникальных генов\n",
    "def count_genes_in_gtf(gtf_file):\n",
    "    # Открываем файл\n",
    "    with gzip.open(gtf_file, 'rt') as f:\n",
    "        # Считываем строки, относящиеся к генам\n",
    "        gene_lines = [line for line in f if 'gene' in line and line.split('\\t')[2] == 'gene']\n",
    "        \n",
    "    # Выделяем ID генов из строк\n",
    "    gene_ids = set()\n",
    "    for line in gene_lines:\n",
    "        # Разбиваем строку на колонки\n",
    "        columns = line.split('\\t')\n",
    "        # Последняя колонка содержит атрибуты, ищем gene_id\n",
    "        attributes = columns[8]\n",
    "        for attribute in attributes.split(';'):\n",
    "            if 'gene_id' in attribute:\n",
    "                gene_id = attribute.split('\"')[1]\n",
    "                gene_ids.add(gene_id)\n",
    "                break\n",
    "    \n",
    "    return len(gene_ids)"
   ]
  },
  {
   "cell_type": "code",
   "execution_count": 4,
   "id": "82eb83ab-c0b6-451c-bf1e-009595eb2a2c",
   "metadata": {},
   "outputs": [],
   "source": [
    "def get_all_correlated_peaks(hm, to_hdf5, to_save):\n",
    "    if to_save.exists():\n",
    "        print(f\"Skipped: {to_hdf5.stem}\")\n",
    "        return None\n",
    "    all_results = []\n",
    "\n",
    "    # Открываем HDF5 файл\n",
    "    with h5py.File(to_hdf5, 'r') as f:\n",
    "        lncRNAs = list(f['lncRNAs_names'][:])\n",
    "        corrs_matrix = f['corrs_matrix'][:]\n",
    "\n",
    "    # Читаем пики\n",
    "    peaks = pd.read_csv(Path(\"/data/mazurovev/all_marks\") / hm / \"merged_peaks_first_in_biosample.bed\", sep=\"\\t\", header=None)\n",
    "\n",
    "    for i, lncRNA in enumerate(lncRNAs):\n",
    "        corrs = corrs_matrix[i, :]\n",
    "        nonzero_indices = np.nonzero(corrs)[0]\n",
    "        nonzero_corrs = corrs[nonzero_indices]\n",
    "        nonzero_peaks = [\"peak_\" + str(j) for j in nonzero_indices]\n",
    "\n",
    "        # Извлекаем соответствующие пики\n",
    "        res = peaks[peaks[3].isin(nonzero_peaks)].copy()\n",
    "        res[\"corr\"] = nonzero_corrs\n",
    "        res[\"lnc_ens\"] = lncRNA.decode('utf-8')  # Декодируем байтовую строку в строку\n",
    "\n",
    "        all_results.append(res)\n",
    "\n",
    "    # Объединяем все результаты в один DataFrame\n",
    "    final_result = pd.concat(all_results, ignore_index=True)\n",
    "    \n",
    "    final_result.to_csv(to_save, sep=\"\\t\", compression=\"gzip\", index=False)"
   ]
  },
  {
   "cell_type": "code",
   "execution_count": 18,
   "id": "3a12c2fd-0e7d-48df-9947-543e6764c4bc",
   "metadata": {},
   "outputs": [],
   "source": [
    "def indexing_methyl(chunk, lnc_ens, corr_sign, subdf):\n",
    "    to_index = METHYL_INDEX\n",
    "    to_index.mkdir(exist_ok=True, parents=True)\n",
    "    to_save = to_index / f\"methyl-{lnc_ens}-{corr_sign}-.tsv.gz\"\n",
    "    if to_save.exists():\n",
    "        print(f\"Skipped: methyl {lnc_ens} {corr_sign}\")\n",
    "        return None\n",
    "    subdf.to_csv(to_save, sep=\"\\t\", compression=\"gzip\", index=False)"
   ]
  },
  {
   "cell_type": "code",
   "execution_count": 19,
   "id": "11d00590-c55c-45d1-b70a-fc96de970ec7",
   "metadata": {},
   "outputs": [
    {
     "name": "stdout",
     "output_type": "stream",
     "text": [
      "lncRNA_Peaks_Correlations_corrected_non_zero_0.tsv\n"
     ]
    },
    {
     "name": "stderr",
     "output_type": "stream",
     "text": [
      "\n",
      "KeyboardInterrupt\n",
      "\n"
     ]
    }
   ],
   "source": [
    "for to_df in METHYL.glob(\"*.tsv.gz\"):\n",
    "    print(to_df.stem)\n",
    "    chunk = to_df.stem.split(\"_\")[6]\n",
    "    df = pd.read_csv(to_df, sep=\"\\t\")\n",
    "    df.rename(columns={\"0\":\"chrom\", \"1\":\"start\", \"2\":\"end\", \"3\":\"name\"}, inplace=True)\n",
    "    df[\"corr\"] = df[\"corr\"].apply(lambda x: np.round(x, 3))\n",
    "    df[\"corr_sign\"] = np.where(df[\"corr\"] > 0, \"plus\", \"minus\")\n",
    "    for (lnc_ens, corr_sign), subdf in df.groupby(by=[\"lnc_ens\", \"corr_sign\"]):\n",
    "        indexing_methyl(chunk=chunk, lnc_ens=lnc_ens, corr_sign=corr_sign, subdf=subdf)"
   ]
  },
  {
   "cell_type": "code",
   "execution_count": 6,
   "id": "dc5545ed-0fb1-4c53-9125-bae8e9d06b69",
   "metadata": {},
   "outputs": [],
   "source": [
    "to_csv= METHYL_CONCAT / \"all_methil_merged.tsv.gz\"\n",
    "all_methil_merged = pd.read_csv(to_csv, sep=\"\\t\", compression=\"gzip\")"
   ]
  },
  {
   "cell_type": "code",
   "execution_count": 7,
   "id": "4515727e-540f-42a1-b9ce-e31fbaf7b452",
   "metadata": {},
   "outputs": [
    {
     "data": {
      "text/plain": [
       "277825397"
      ]
     },
     "execution_count": 7,
     "metadata": {},
     "output_type": "execute_result"
    }
   ],
   "source": [
    "len(all_methil_merged)"
   ]
  },
  {
   "cell_type": "code",
   "execution_count": 16,
   "id": "bb425a78-f4ff-4dad-b440-6dd70432d3b0",
   "metadata": {},
   "outputs": [
    {
     "data": {
      "text/html": [
       "<div>\n",
       "<style scoped>\n",
       "    .dataframe tbody tr th:only-of-type {\n",
       "        vertical-align: middle;\n",
       "    }\n",
       "\n",
       "    .dataframe tbody tr th {\n",
       "        vertical-align: top;\n",
       "    }\n",
       "\n",
       "    .dataframe thead th {\n",
       "        text-align: right;\n",
       "    }\n",
       "</style>\n",
       "<table border=\"1\" class=\"dataframe\">\n",
       "  <thead>\n",
       "    <tr style=\"text-align: right;\">\n",
       "      <th></th>\n",
       "      <th>0</th>\n",
       "      <th>1</th>\n",
       "      <th>2</th>\n",
       "      <th>3</th>\n",
       "      <th>4</th>\n",
       "      <th>5</th>\n",
       "      <th>6</th>\n",
       "    </tr>\n",
       "  </thead>\n",
       "  <tbody>\n",
       "    <tr>\n",
       "      <th>23821946</th>\n",
       "      <td>chrY</td>\n",
       "      <td>56884830</td>\n",
       "      <td>56884831</td>\n",
       "      <td>peak_53936927</td>\n",
       "      <td>0.637</td>\n",
       "      <td>ENSG00000256576</td>\n",
       "      <td>plus</td>\n",
       "    </tr>\n",
       "    <tr>\n",
       "      <th>41145915</th>\n",
       "      <td>chrY</td>\n",
       "      <td>56884830</td>\n",
       "      <td>56884831</td>\n",
       "      <td>peak_53936927</td>\n",
       "      <td>0.622</td>\n",
       "      <td>ENSG00000280234</td>\n",
       "      <td>plus</td>\n",
       "    </tr>\n",
       "    <tr>\n",
       "      <th>129168025</th>\n",
       "      <td>chrY</td>\n",
       "      <td>56884830</td>\n",
       "      <td>56884831</td>\n",
       "      <td>peak_53936927</td>\n",
       "      <td>0.640</td>\n",
       "      <td>ENSG00000272750</td>\n",
       "      <td>plus</td>\n",
       "    </tr>\n",
       "    <tr>\n",
       "      <th>41145914</th>\n",
       "      <td>chrY</td>\n",
       "      <td>56884829</td>\n",
       "      <td>56884830</td>\n",
       "      <td>peak_53936926</td>\n",
       "      <td>0.595</td>\n",
       "      <td>ENSG00000280234</td>\n",
       "      <td>plus</td>\n",
       "    </tr>\n",
       "    <tr>\n",
       "      <th>121784693</th>\n",
       "      <td>chrY</td>\n",
       "      <td>56884816</td>\n",
       "      <td>56884817</td>\n",
       "      <td>peak_53936925</td>\n",
       "      <td>-0.772</td>\n",
       "      <td>ENSG00000227627</td>\n",
       "      <td>minus</td>\n",
       "    </tr>\n",
       "    <tr>\n",
       "      <th>...</th>\n",
       "      <td>...</td>\n",
       "      <td>...</td>\n",
       "      <td>...</td>\n",
       "      <td>...</td>\n",
       "      <td>...</td>\n",
       "      <td>...</td>\n",
       "      <td>...</td>\n",
       "    </tr>\n",
       "    <tr>\n",
       "      <th>215251195</th>\n",
       "      <td>chr1</td>\n",
       "      <td>10578</td>\n",
       "      <td>10579</td>\n",
       "      <td>peak_17</td>\n",
       "      <td>-0.655</td>\n",
       "      <td>ENSG00000259495</td>\n",
       "      <td>minus</td>\n",
       "    </tr>\n",
       "    <tr>\n",
       "      <th>248981362</th>\n",
       "      <td>chr1</td>\n",
       "      <td>10578</td>\n",
       "      <td>10579</td>\n",
       "      <td>peak_17</td>\n",
       "      <td>-0.624</td>\n",
       "      <td>ENSG00000278989</td>\n",
       "      <td>minus</td>\n",
       "    </tr>\n",
       "    <tr>\n",
       "      <th>112933774</th>\n",
       "      <td>chr1</td>\n",
       "      <td>10576</td>\n",
       "      <td>10577</td>\n",
       "      <td>peak_16</td>\n",
       "      <td>-0.642</td>\n",
       "      <td>ENSG00000227888</td>\n",
       "      <td>minus</td>\n",
       "    </tr>\n",
       "    <tr>\n",
       "      <th>113001538</th>\n",
       "      <td>chr1</td>\n",
       "      <td>10492</td>\n",
       "      <td>10493</td>\n",
       "      <td>peak_8</td>\n",
       "      <td>-0.653</td>\n",
       "      <td>ENSG00000242759</td>\n",
       "      <td>minus</td>\n",
       "    </tr>\n",
       "    <tr>\n",
       "      <th>248981361</th>\n",
       "      <td>chr1</td>\n",
       "      <td>10492</td>\n",
       "      <td>10493</td>\n",
       "      <td>peak_8</td>\n",
       "      <td>-0.553</td>\n",
       "      <td>ENSG00000278989</td>\n",
       "      <td>minus</td>\n",
       "    </tr>\n",
       "  </tbody>\n",
       "</table>\n",
       "<p>277825397 rows × 7 columns</p>\n",
       "</div>"
      ],
      "text/plain": [
       "              0         1         2              3      4                5  \\\n",
       "23821946   chrY  56884830  56884831  peak_53936927  0.637  ENSG00000256576   \n",
       "41145915   chrY  56884830  56884831  peak_53936927  0.622  ENSG00000280234   \n",
       "129168025  chrY  56884830  56884831  peak_53936927  0.640  ENSG00000272750   \n",
       "41145914   chrY  56884829  56884830  peak_53936926  0.595  ENSG00000280234   \n",
       "121784693  chrY  56884816  56884817  peak_53936925 -0.772  ENSG00000227627   \n",
       "...         ...       ...       ...            ...    ...              ...   \n",
       "215251195  chr1     10578     10579        peak_17 -0.655  ENSG00000259495   \n",
       "248981362  chr1     10578     10579        peak_17 -0.624  ENSG00000278989   \n",
       "112933774  chr1     10576     10577        peak_16 -0.642  ENSG00000227888   \n",
       "113001538  chr1     10492     10493         peak_8 -0.653  ENSG00000242759   \n",
       "248981361  chr1     10492     10493         peak_8 -0.553  ENSG00000278989   \n",
       "\n",
       "               6  \n",
       "23821946    plus  \n",
       "41145915    plus  \n",
       "129168025   plus  \n",
       "41145914    plus  \n",
       "121784693  minus  \n",
       "...          ...  \n",
       "215251195  minus  \n",
       "248981362  minus  \n",
       "112933774  minus  \n",
       "113001538  minus  \n",
       "248981361  minus  \n",
       "\n",
       "[277825397 rows x 7 columns]"
      ]
     },
     "execution_count": 16,
     "metadata": {},
     "output_type": "execute_result"
    }
   ],
   "source": [
    "all_methil_merged.sort_values(by=[\"0\",\"1\",\"2\"], ascending=False)"
   ]
  },
  {
   "cell_type": "code",
   "execution_count": 8,
   "id": "200aa541-6d56-47ce-9914-9372e8b23b45",
   "metadata": {},
   "outputs": [
    {
     "data": {
      "text/plain": [
       "(25177317, 3)"
      ]
     },
     "execution_count": 8,
     "metadata": {},
     "output_type": "execute_result"
    }
   ],
   "source": [
    "all_methil_merged_for_bed = all_methil_merged.drop_duplicates(subset=[\"0\",\"1\",\"2\"])[[\"0\",\"1\",\"2\"]]\n",
    "all_methil_merged_for_bed.shape"
   ]
  },
  {
   "cell_type": "code",
   "execution_count": 17,
   "id": "03b383bb-e9d3-4b9f-b0b1-e379ea50f715",
   "metadata": {},
   "outputs": [],
   "source": [
    "all_methil_merged_for_bed_sort = all_methil_merged_for_bed.sort_values(by=[\"0\",\"1\",\"2\"], ascending=False)"
   ]
  },
  {
   "cell_type": "code",
   "execution_count": null,
   "id": "7e888e26-0489-453b-95de-4da9407c0b43",
   "metadata": {},
   "outputs": [],
   "source": [
    "all_methil_merged_for_bed_sort[all_methil_merged_for_bed_sort[\"1\"] == 10541]"
   ]
  },
  {
   "cell_type": "code",
   "execution_count": null,
   "id": "64d2766b-68f2-4b31-9bd0-0f2ab9e94129",
   "metadata": {},
   "outputs": [],
   "source": []
  },
  {
   "cell_type": "code",
   "execution_count": 9,
   "id": "292f718c-78a5-46bc-a245-3c13dd0b1cae",
   "metadata": {},
   "outputs": [],
   "source": [
    "bed_concat = pybedtools.BedTool(METHYL_BED / \"methyl_concat\" /'methyl_concat.bed')"
   ]
  },
  {
   "cell_type": "code",
   "execution_count": 12,
   "id": "7725c1e0-1a5d-491f-9ab9-eb7d5d4fcf97",
   "metadata": {},
   "outputs": [],
   "source": [
    "bed_concat_df = pd.read_table(bed_concat.fn, names=['chrom', 'start', 'stop'])"
   ]
  },
  {
   "cell_type": "code",
   "execution_count": 13,
   "id": "64a27c1b-539e-4d54-9d46-e6269d6dc41a",
   "metadata": {},
   "outputs": [
    {
     "data": {
      "text/html": [
       "<div>\n",
       "<style scoped>\n",
       "    .dataframe tbody tr th:only-of-type {\n",
       "        vertical-align: middle;\n",
       "    }\n",
       "\n",
       "    .dataframe tbody tr th {\n",
       "        vertical-align: top;\n",
       "    }\n",
       "\n",
       "    .dataframe thead th {\n",
       "        text-align: right;\n",
       "    }\n",
       "</style>\n",
       "<table border=\"1\" class=\"dataframe\">\n",
       "  <thead>\n",
       "    <tr style=\"text-align: right;\">\n",
       "      <th></th>\n",
       "      <th>chrom</th>\n",
       "      <th>start</th>\n",
       "      <th>stop</th>\n",
       "    </tr>\n",
       "  </thead>\n",
       "  <tbody>\n",
       "    <tr>\n",
       "      <th>0</th>\n",
       "      <td>chr1</td>\n",
       "      <td>10492</td>\n",
       "      <td>10493</td>\n",
       "    </tr>\n",
       "    <tr>\n",
       "      <th>1</th>\n",
       "      <td>chr1</td>\n",
       "      <td>10541</td>\n",
       "      <td>10542</td>\n",
       "    </tr>\n",
       "    <tr>\n",
       "      <th>2</th>\n",
       "      <td>chr1</td>\n",
       "      <td>10570</td>\n",
       "      <td>10571</td>\n",
       "    </tr>\n",
       "    <tr>\n",
       "      <th>3</th>\n",
       "      <td>chr1</td>\n",
       "      <td>10576</td>\n",
       "      <td>10577</td>\n",
       "    </tr>\n",
       "    <tr>\n",
       "      <th>4</th>\n",
       "      <td>chr1</td>\n",
       "      <td>10578</td>\n",
       "      <td>10579</td>\n",
       "    </tr>\n",
       "    <tr>\n",
       "      <th>...</th>\n",
       "      <td>...</td>\n",
       "      <td>...</td>\n",
       "      <td>...</td>\n",
       "    </tr>\n",
       "    <tr>\n",
       "      <th>17758256</th>\n",
       "      <td>chrY</td>\n",
       "      <td>56884088</td>\n",
       "      <td>56884090</td>\n",
       "    </tr>\n",
       "    <tr>\n",
       "      <th>17758257</th>\n",
       "      <td>chrY</td>\n",
       "      <td>56884121</td>\n",
       "      <td>56884122</td>\n",
       "    </tr>\n",
       "    <tr>\n",
       "      <th>17758258</th>\n",
       "      <td>chrY</td>\n",
       "      <td>56884235</td>\n",
       "      <td>56884236</td>\n",
       "    </tr>\n",
       "    <tr>\n",
       "      <th>17758259</th>\n",
       "      <td>chrY</td>\n",
       "      <td>56884815</td>\n",
       "      <td>56884817</td>\n",
       "    </tr>\n",
       "    <tr>\n",
       "      <th>17758260</th>\n",
       "      <td>chrY</td>\n",
       "      <td>56884829</td>\n",
       "      <td>56884831</td>\n",
       "    </tr>\n",
       "  </tbody>\n",
       "</table>\n",
       "<p>17758261 rows × 3 columns</p>\n",
       "</div>"
      ],
      "text/plain": [
       "         chrom     start      stop\n",
       "0         chr1     10492     10493\n",
       "1         chr1     10541     10542\n",
       "2         chr1     10570     10571\n",
       "3         chr1     10576     10577\n",
       "4         chr1     10578     10579\n",
       "...        ...       ...       ...\n",
       "17758256  chrY  56884088  56884090\n",
       "17758257  chrY  56884121  56884122\n",
       "17758258  chrY  56884235  56884236\n",
       "17758259  chrY  56884815  56884817\n",
       "17758260  chrY  56884829  56884831\n",
       "\n",
       "[17758261 rows x 3 columns]"
      ]
     },
     "execution_count": 13,
     "metadata": {},
     "output_type": "execute_result"
    }
   ],
   "source": [
    "bed_concat_df"
   ]
  },
  {
   "cell_type": "code",
   "execution_count": null,
   "id": "4b2bbf92-380b-4bb8-b8a5-160541593117",
   "metadata": {},
   "outputs": [],
   "source": [
    "def tsv_to_bed(to_tsv):\n",
    "    to_save = METHYL_BED / f\"{to_tsv.name.split('.')[0]}.bed\"\n",
    "    if to_save.exists():\n",
    "        print(f\"Skipped: {to_save}\")\n",
    "        return None\n",
    "    to_save.parent.mkdir(exist_ok=True, parents=True)\n",
    "    df = pd.read_csv(to_tsv, sep=\"\\t\")\n",
    "    stream = open(to_save, 'w')\n",
    "    for i in range(len(df)):\n",
    "        stream.write(f\"{df.loc[i, 'chrom']}\\t{df.loc[i, 'start']}\\t{df.loc[i, 'end']}\\n\")\n",
    "    \n",
    "    stream.close()\n",
    "    #cmd = f\"gzip {to_save}\" \n",
    "    #subprocess.run(cmd, shell=True, check=True)"
   ]
  },
  {
   "cell_type": "code",
   "execution_count": null,
   "id": "8b336739-2481-4112-bcbf-d81464c75c65",
   "metadata": {},
   "outputs": [],
   "source": [
    "with Parallel(n_jobs=-1) as pool:\n",
    "    chunks = pool(\n",
    "        delayed(tsv_to_bed)(to_tsv)\n",
    "        for to_tsv in METHYL_INDEX.glob(\"*\")\n",
    "    )"
   ]
  }
 ],
 "metadata": {
  "kernelspec": {
   "display_name": "Python 3 (ipykernel)",
   "language": "python",
   "name": "python3"
  },
  "language_info": {
   "codemirror_mode": {
    "name": "ipython",
    "version": 3
   },
   "file_extension": ".py",
   "mimetype": "text/x-python",
   "name": "python",
   "nbconvert_exporter": "python",
   "pygments_lexer": "ipython3",
   "version": "3.12.3"
  }
 },
 "nbformat": 4,
 "nbformat_minor": 5
}
