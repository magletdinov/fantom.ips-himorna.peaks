{
 "cells": [
  {
   "cell_type": "code",
   "execution_count": 253,
   "id": "79069c72-cbac-46bc-80ae-05778607e41e",
   "metadata": {},
   "outputs": [],
   "source": [
    "from pathlib import Path\n",
    "import pandas as pd\n",
    "import numpy as np\n",
    "from joblib import Parallel, delayed\n",
    "import pickle\n",
    "from scipy.stats import fisher_exact\n",
    "from statsmodels.stats.multitest import multipletests"
   ]
  },
  {
   "cell_type": "code",
   "execution_count": 285,
   "id": "243b9296-2e3c-4c54-9e3b-b29c68207627",
   "metadata": {},
   "outputs": [],
   "source": [
    "PWD = Path().cwd()\n",
    "DATA = Path(\"../data\")\n",
    "IPS = DATA / \"rnaseq_res_ips\"\n",
    "HIMORNA = DATA / \"himorna_peaks\"\n",
    "FANTOM = DATA / \"fantom_cat\"\n",
    "PREPROCESSING = Path(\"../preprocessing\")\n",
    "HIMORNA_INDEX = PREPROCESSING / \"himorna_index\"\n",
    "IPS_INDEX = PREPROCESSING / \"ips_deg_index\"\n",
    "MATRICES = PREPROCESSING / \"matrices\"\n",
    "FISHER = PREPROCESSING / \"fisher_exact_test\""
   ]
  },
  {
   "cell_type": "code",
   "execution_count": 62,
   "id": "44d059c0-7b6f-4986-8c5e-eae300edc757",
   "metadata": {},
   "outputs": [
    {
     "name": "stderr",
     "output_type": "stream",
     "text": [
      "/tmp/ipykernel_2995/237761342.py:8: DtypeWarning: Columns (7) have mixed types. Specify dtype option on import or set low_memory=False.\n",
      "  himorna_peaks = pd.concat(himorna_peaks)\n"
     ]
    }
   ],
   "source": [
    "to_peaks = HIMORNA / \"Himorna_all_peaks_with_correlations_ensembl_id.tsv.gz\"\n",
    "himorna_peaks = pd.read_csv(\n",
    "        to_peaks,\n",
    "        chunksize=100000000,\n",
    "        sep=\"\\t\",\n",
    "        names=[\"hm\", \"lnc\", \"lnc_ens\", \"peak\", \"chrom\", \"start\", \"end\", \"gene\", \"gene_ens\", \"corr\"]\n",
    "    )\n",
    "himorna_peaks = pd.concat(himorna_peaks)"
   ]
  },
  {
   "cell_type": "code",
   "execution_count": 63,
   "id": "3f79be8f-a55b-4ebf-8c5c-491f5acb42f2",
   "metadata": {},
   "outputs": [
    {
     "data": {
      "text/plain": [
       "(92208462, 10)"
      ]
     },
     "execution_count": 63,
     "metadata": {},
     "output_type": "execute_result"
    }
   ],
   "source": [
    "himorna_peaks.shape"
   ]
  },
  {
   "cell_type": "code",
   "execution_count": 64,
   "id": "b6d8004c-8913-4f43-b9b5-eb6c5378848e",
   "metadata": {},
   "outputs": [],
   "source": [
    "himorna_peaks[\"lnc\"] = himorna_peaks[\"lnc\"].astype('str')"
   ]
  },
  {
   "cell_type": "code",
   "execution_count": 65,
   "id": "c8da42b0-d426-44a9-8876-2cba1d473cee",
   "metadata": {},
   "outputs": [
    {
     "data": {
      "text/plain": [
       "(92208462, 10)"
      ]
     },
     "execution_count": 65,
     "metadata": {},
     "output_type": "execute_result"
    }
   ],
   "source": [
    "himorna_peaks = himorna_peaks.drop_duplicates()\n",
    "himorna_peaks = himorna_peaks.dropna(subset=[\"hm\",\"lnc_ens\",\"gene_ens\"])\n",
    "himorna_peaks.shape"
   ]
  },
  {
   "cell_type": "code",
   "execution_count": 69,
   "id": "20957506-b8be-42ff-b64a-6736e0a6819d",
   "metadata": {},
   "outputs": [
    {
     "data": {
      "text/html": [
       "<div>\n",
       "<style scoped>\n",
       "    .dataframe tbody tr th:only-of-type {\n",
       "        vertical-align: middle;\n",
       "    }\n",
       "\n",
       "    .dataframe tbody tr th {\n",
       "        vertical-align: top;\n",
       "    }\n",
       "\n",
       "    .dataframe thead th {\n",
       "        text-align: right;\n",
       "    }\n",
       "</style>\n",
       "<table border=\"1\" class=\"dataframe\">\n",
       "  <thead>\n",
       "    <tr style=\"text-align: right;\">\n",
       "      <th></th>\n",
       "      <th>hm</th>\n",
       "      <th>lnc</th>\n",
       "      <th>lnc_ens</th>\n",
       "      <th>peak</th>\n",
       "      <th>chrom</th>\n",
       "      <th>start</th>\n",
       "      <th>end</th>\n",
       "      <th>gene</th>\n",
       "      <th>gene_ens</th>\n",
       "      <th>corr</th>\n",
       "    </tr>\n",
       "  </thead>\n",
       "  <tbody>\n",
       "    <tr>\n",
       "      <th>0</th>\n",
       "      <td>H3K9me3</td>\n",
       "      <td>AL390961.3</td>\n",
       "      <td>ENSG00000279212</td>\n",
       "      <td>peak_391</td>\n",
       "      <td>chr1</td>\n",
       "      <td>6203922</td>\n",
       "      <td>6205912</td>\n",
       "      <td>RPL22</td>\n",
       "      <td>ENSG00000116251</td>\n",
       "      <td>-0.540072</td>\n",
       "    </tr>\n",
       "    <tr>\n",
       "      <th>1</th>\n",
       "      <td>H3K9me3</td>\n",
       "      <td>SUGT1-DT</td>\n",
       "      <td>ENSG00000273723</td>\n",
       "      <td>peak_391</td>\n",
       "      <td>chr1</td>\n",
       "      <td>6203922</td>\n",
       "      <td>6205912</td>\n",
       "      <td>RPL22</td>\n",
       "      <td>ENSG00000116251</td>\n",
       "      <td>-0.493172</td>\n",
       "    </tr>\n",
       "    <tr>\n",
       "      <th>2</th>\n",
       "      <td>H3K9me3</td>\n",
       "      <td>AC004148.1</td>\n",
       "      <td>ENSG00000263272</td>\n",
       "      <td>peak_391</td>\n",
       "      <td>chr1</td>\n",
       "      <td>6203922</td>\n",
       "      <td>6205912</td>\n",
       "      <td>RPL22</td>\n",
       "      <td>ENSG00000116251</td>\n",
       "      <td>-0.406290</td>\n",
       "    </tr>\n",
       "    <tr>\n",
       "      <th>3</th>\n",
       "      <td>H3K9me3</td>\n",
       "      <td>CADM3-AS1</td>\n",
       "      <td>ENSG00000225670</td>\n",
       "      <td>peak_391</td>\n",
       "      <td>chr1</td>\n",
       "      <td>6203922</td>\n",
       "      <td>6205912</td>\n",
       "      <td>RPL22</td>\n",
       "      <td>ENSG00000116251</td>\n",
       "      <td>0.556495</td>\n",
       "    </tr>\n",
       "    <tr>\n",
       "      <th>4</th>\n",
       "      <td>H3K9me3</td>\n",
       "      <td>PCAT19</td>\n",
       "      <td>ENSG00000267107</td>\n",
       "      <td>peak_391</td>\n",
       "      <td>chr1</td>\n",
       "      <td>6203922</td>\n",
       "      <td>6205912</td>\n",
       "      <td>RPL22</td>\n",
       "      <td>ENSG00000116251</td>\n",
       "      <td>0.473327</td>\n",
       "    </tr>\n",
       "  </tbody>\n",
       "</table>\n",
       "</div>"
      ],
      "text/plain": [
       "        hm         lnc          lnc_ens      peak chrom    start      end  \\\n",
       "0  H3K9me3  AL390961.3  ENSG00000279212  peak_391  chr1  6203922  6205912   \n",
       "1  H3K9me3    SUGT1-DT  ENSG00000273723  peak_391  chr1  6203922  6205912   \n",
       "2  H3K9me3  AC004148.1  ENSG00000263272  peak_391  chr1  6203922  6205912   \n",
       "3  H3K9me3   CADM3-AS1  ENSG00000225670  peak_391  chr1  6203922  6205912   \n",
       "4  H3K9me3      PCAT19  ENSG00000267107  peak_391  chr1  6203922  6205912   \n",
       "\n",
       "    gene         gene_ens      corr  \n",
       "0  RPL22  ENSG00000116251 -0.540072  \n",
       "1  RPL22  ENSG00000116251 -0.493172  \n",
       "2  RPL22  ENSG00000116251 -0.406290  \n",
       "3  RPL22  ENSG00000116251  0.556495  \n",
       "4  RPL22  ENSG00000116251  0.473327  "
      ]
     },
     "execution_count": 69,
     "metadata": {},
     "output_type": "execute_result"
    }
   ],
   "source": [
    "himorna_peaks.head()"
   ]
  },
  {
   "cell_type": "code",
   "execution_count": 68,
   "id": "e28f6175-db75-4f7e-adcf-cc14c170b4d0",
   "metadata": {},
   "outputs": [
    {
     "data": {
      "text/plain": [
       "<Axes: >"
      ]
     },
     "execution_count": 68,
     "metadata": {},
     "output_type": "execute_result"
    },
    {
     "data": {
      "image/png": "[encoded data removed]",
      "text/plain": [
       "<Figure size 640x480 with 1 Axes>"
      ]
     },
     "metadata": {},
     "output_type": "display_data"
    }
   ],
   "source": [
    "himorna_peaks[\"corr\"].hist()# данные уже отфильтрованы"
   ]
  },
  {
   "cell_type": "code",
   "execution_count": 87,
   "id": "ed005b42-caf3-4e8c-95b2-a254d7429025",
   "metadata": {},
   "outputs": [],
   "source": [
    "def indexing_himorna(hm, lnc_ens, subdf):\n",
    "    to_index = HIMORNA_INDEX / hm\n",
    "    to_index.mkdir(exist_ok=True, parents=True)\n",
    "    to_save = to_index / f\"{hm}-{lnc_ens}-.tsv.gz\"\n",
    "    subdf.to_csv(to_save, sep=\"\\t\", compression=\"gzip\", index=False)    "
   ]
  },
  {
   "cell_type": "code",
   "execution_count": 88,
   "id": "803324ec-717d-494c-903f-045c8ec30a77",
   "metadata": {},
   "outputs": [],
   "source": [
    "with Parallel(n_jobs=-1) as pool:\n",
    "    chunks = pool(\n",
    "        delayed(indexing_himorna)(hm, lnc_ens, subdf)\n",
    "        for (hm, lnc_ens), subdf in himorna_peaks.groupby(by=[\"hm\", \"lnc_ens\"])\n",
    "    )"
   ]
  },
  {
   "cell_type": "code",
   "execution_count": null,
   "id": "8ed21e43-54f6-4946-ac84-0f840d277b35",
   "metadata": {},
   "outputs": [],
   "source": []
  },
  {
   "cell_type": "code",
   "execution_count": 5,
   "id": "9a8c9a06-330c-4132-8b39-57f2d58bd9e1",
   "metadata": {},
   "outputs": [
    {
     "data": {
      "text/html": [
       "<div>\n",
       "<style scoped>\n",
       "    .dataframe tbody tr th:only-of-type {\n",
       "        vertical-align: middle;\n",
       "    }\n",
       "\n",
       "    .dataframe tbody tr th {\n",
       "        vertical-align: top;\n",
       "    }\n",
       "\n",
       "    .dataframe thead th {\n",
       "        text-align: right;\n",
       "    }\n",
       "</style>\n",
       "<table border=\"1\" class=\"dataframe\">\n",
       "  <thead>\n",
       "    <tr style=\"text-align: right;\">\n",
       "      <th></th>\n",
       "      <th>DEG.geneID</th>\n",
       "      <th>DEG.HGNC</th>\n",
       "      <th>EdgeR.log2FC</th>\n",
       "      <th>EdgeR.log2CPM</th>\n",
       "      <th>EdgeR.pvalue</th>\n",
       "      <th>EdgeR.FDR</th>\n",
       "      <th>EdgeR.Zscore</th>\n",
       "      <th>target.gapmerID</th>\n",
       "      <th>target.geneID</th>\n",
       "      <th>target.HGNC</th>\n",
       "    </tr>\n",
       "  </thead>\n",
       "  <tbody>\n",
       "    <tr>\n",
       "      <th>0</th>\n",
       "      <td>CATG00000000155</td>\n",
       "      <td>CATG00000000155.1</td>\n",
       "      <td>0.257141</td>\n",
       "      <td>3.591144</td>\n",
       "      <td>0.550588</td>\n",
       "      <td>1.0</td>\n",
       "      <td>0.620927</td>\n",
       "      <td>G0234787_01</td>\n",
       "      <td>ENSG00000234787</td>\n",
       "      <td>LINC00458</td>\n",
       "    </tr>\n",
       "    <tr>\n",
       "      <th>1</th>\n",
       "      <td>CATG00000001164</td>\n",
       "      <td>CATG00000001164.1</td>\n",
       "      <td>0.706131</td>\n",
       "      <td>3.805757</td>\n",
       "      <td>0.044323</td>\n",
       "      <td>1.0</td>\n",
       "      <td>1.757448</td>\n",
       "      <td>G0234787_01</td>\n",
       "      <td>ENSG00000234787</td>\n",
       "      <td>LINC00458</td>\n",
       "    </tr>\n",
       "    <tr>\n",
       "      <th>2</th>\n",
       "      <td>CATG00000001318</td>\n",
       "      <td>CATG00000001318.1</td>\n",
       "      <td>-0.074655</td>\n",
       "      <td>4.766566</td>\n",
       "      <td>0.913694</td>\n",
       "      <td>1.0</td>\n",
       "      <td>0.052701</td>\n",
       "      <td>G0234787_01</td>\n",
       "      <td>ENSG00000234787</td>\n",
       "      <td>LINC00458</td>\n",
       "    </tr>\n",
       "    <tr>\n",
       "      <th>3</th>\n",
       "      <td>CATG00000002817</td>\n",
       "      <td>CATG00000002817.1</td>\n",
       "      <td>-0.201767</td>\n",
       "      <td>3.841792</td>\n",
       "      <td>0.716487</td>\n",
       "      <td>1.0</td>\n",
       "      <td>-0.414103</td>\n",
       "      <td>G0234787_01</td>\n",
       "      <td>ENSG00000234787</td>\n",
       "      <td>LINC00458</td>\n",
       "    </tr>\n",
       "    <tr>\n",
       "      <th>4</th>\n",
       "      <td>CATG00000003248</td>\n",
       "      <td>CATG00000003248.1</td>\n",
       "      <td>-0.155609</td>\n",
       "      <td>4.592817</td>\n",
       "      <td>0.650460</td>\n",
       "      <td>1.0</td>\n",
       "      <td>0.026003</td>\n",
       "      <td>G0234787_01</td>\n",
       "      <td>ENSG00000234787</td>\n",
       "      <td>LINC00458</td>\n",
       "    </tr>\n",
       "  </tbody>\n",
       "</table>\n",
       "</div>"
      ],
      "text/plain": [
       "        DEG.geneID           DEG.HGNC  EdgeR.log2FC  EdgeR.log2CPM  \\\n",
       "0  CATG00000000155  CATG00000000155.1      0.257141       3.591144   \n",
       "1  CATG00000001164  CATG00000001164.1      0.706131       3.805757   \n",
       "2  CATG00000001318  CATG00000001318.1     -0.074655       4.766566   \n",
       "3  CATG00000002817  CATG00000002817.1     -0.201767       3.841792   \n",
       "4  CATG00000003248  CATG00000003248.1     -0.155609       4.592817   \n",
       "\n",
       "   EdgeR.pvalue  EdgeR.FDR  EdgeR.Zscore target.gapmerID    target.geneID  \\\n",
       "0      0.550588        1.0      0.620927     G0234787_01  ENSG00000234787   \n",
       "1      0.044323        1.0      1.757448     G0234787_01  ENSG00000234787   \n",
       "2      0.913694        1.0      0.052701     G0234787_01  ENSG00000234787   \n",
       "3      0.716487        1.0     -0.414103     G0234787_01  ENSG00000234787   \n",
       "4      0.650460        1.0      0.026003     G0234787_01  ENSG00000234787   \n",
       "\n",
       "  target.HGNC  \n",
       "0   LINC00458  \n",
       "1   LINC00458  \n",
       "2   LINC00458  \n",
       "3   LINC00458  \n",
       "4   LINC00458  "
      ]
     },
     "execution_count": 5,
     "metadata": {},
     "output_type": "execute_result"
    }
   ],
   "source": [
    "to_ips = IPS / \"EdgeR.table.all.target.tsv.gz\"\n",
    "ips_expr = pd.read_csv(to_ips, sep=\"\\t\")\n",
    "ips_expr.head()"
   ]
  },
  {
   "cell_type": "code",
   "execution_count": 7,
   "id": "4d713b1c-3888-4bbc-aea7-5cecbd574fb6",
   "metadata": {},
   "outputs": [
    {
     "data": {
      "text/plain": [
       "(3445156, 10)"
      ]
     },
     "execution_count": 7,
     "metadata": {},
     "output_type": "execute_result"
    }
   ],
   "source": [
    "ips_expr.shape"
   ]
  },
  {
   "cell_type": "code",
   "execution_count": 6,
   "id": "0a850eeb-e3fd-4629-9698-8af581cbb183",
   "metadata": {},
   "outputs": [
    {
     "data": {
      "text/html": [
       "<div>\n",
       "<style scoped>\n",
       "    .dataframe tbody tr th:only-of-type {\n",
       "        vertical-align: middle;\n",
       "    }\n",
       "\n",
       "    .dataframe tbody tr th {\n",
       "        vertical-align: top;\n",
       "    }\n",
       "\n",
       "    .dataframe thead th {\n",
       "        text-align: right;\n",
       "    }\n",
       "</style>\n",
       "<table border=\"1\" class=\"dataframe\">\n",
       "  <thead>\n",
       "    <tr style=\"text-align: right;\">\n",
       "      <th></th>\n",
       "      <th>DEG.geneID</th>\n",
       "      <th>DEG.HGNC</th>\n",
       "      <th>EdgeR.log2FC</th>\n",
       "      <th>EdgeR.log2CPM</th>\n",
       "      <th>EdgeR.pvalue</th>\n",
       "      <th>EdgeR.FDR</th>\n",
       "      <th>EdgeR.Zscore</th>\n",
       "      <th>target.gapmerID</th>\n",
       "      <th>target.geneID</th>\n",
       "      <th>target.HGNC</th>\n",
       "    </tr>\n",
       "  </thead>\n",
       "  <tbody>\n",
       "    <tr>\n",
       "      <th>0</th>\n",
       "      <td>ENSG00000205531</td>\n",
       "      <td>NAP1L4</td>\n",
       "      <td>-0.691972</td>\n",
       "      <td>7.349218</td>\n",
       "      <td>3.899614e-06</td>\n",
       "      <td>0.042455</td>\n",
       "      <td>-5.061144</td>\n",
       "      <td>G0234787_08</td>\n",
       "      <td>ENSG00000234787</td>\n",
       "      <td>LINC00458</td>\n",
       "    </tr>\n",
       "    <tr>\n",
       "      <th>1</th>\n",
       "      <td>ENSG00000089916</td>\n",
       "      <td>GPATCH2L</td>\n",
       "      <td>-1.041246</td>\n",
       "      <td>5.600935</td>\n",
       "      <td>3.913478e-05</td>\n",
       "      <td>0.043336</td>\n",
       "      <td>-3.953852</td>\n",
       "      <td>R0057746_03</td>\n",
       "      <td>CATG00000070943</td>\n",
       "      <td>CATG00000070943.1</td>\n",
       "    </tr>\n",
       "    <tr>\n",
       "      <th>2</th>\n",
       "      <td>ENSG00000099194</td>\n",
       "      <td>SCD</td>\n",
       "      <td>-0.635000</td>\n",
       "      <td>8.662415</td>\n",
       "      <td>2.054724e-07</td>\n",
       "      <td>0.000870</td>\n",
       "      <td>-2.709444</td>\n",
       "      <td>R0057746_03</td>\n",
       "      <td>CATG00000070943</td>\n",
       "      <td>CATG00000070943.1</td>\n",
       "    </tr>\n",
       "    <tr>\n",
       "      <th>3</th>\n",
       "      <td>ENSG00000113161</td>\n",
       "      <td>HMGCR</td>\n",
       "      <td>-0.912822</td>\n",
       "      <td>6.861125</td>\n",
       "      <td>1.601495e-05</td>\n",
       "      <td>0.029059</td>\n",
       "      <td>-3.682696</td>\n",
       "      <td>R0057746_03</td>\n",
       "      <td>CATG00000070943</td>\n",
       "      <td>CATG00000070943.1</td>\n",
       "    </tr>\n",
       "    <tr>\n",
       "      <th>4</th>\n",
       "      <td>ENSG00000128829</td>\n",
       "      <td>EIF2AK4</td>\n",
       "      <td>-0.887877</td>\n",
       "      <td>6.605389</td>\n",
       "      <td>2.397361e-07</td>\n",
       "      <td>0.000870</td>\n",
       "      <td>-4.709886</td>\n",
       "      <td>R0057746_03</td>\n",
       "      <td>CATG00000070943</td>\n",
       "      <td>CATG00000070943.1</td>\n",
       "    </tr>\n",
       "  </tbody>\n",
       "</table>\n",
       "</div>"
      ],
      "text/plain": [
       "        DEG.geneID  DEG.HGNC  EdgeR.log2FC  EdgeR.log2CPM  EdgeR.pvalue  \\\n",
       "0  ENSG00000205531    NAP1L4     -0.691972       7.349218  3.899614e-06   \n",
       "1  ENSG00000089916  GPATCH2L     -1.041246       5.600935  3.913478e-05   \n",
       "2  ENSG00000099194       SCD     -0.635000       8.662415  2.054724e-07   \n",
       "3  ENSG00000113161     HMGCR     -0.912822       6.861125  1.601495e-05   \n",
       "4  ENSG00000128829   EIF2AK4     -0.887877       6.605389  2.397361e-07   \n",
       "\n",
       "   EdgeR.FDR  EdgeR.Zscore target.gapmerID    target.geneID        target.HGNC  \n",
       "0   0.042455     -5.061144     G0234787_08  ENSG00000234787          LINC00458  \n",
       "1   0.043336     -3.953852     R0057746_03  CATG00000070943  CATG00000070943.1  \n",
       "2   0.000870     -2.709444     R0057746_03  CATG00000070943  CATG00000070943.1  \n",
       "3   0.029059     -3.682696     R0057746_03  CATG00000070943  CATG00000070943.1  \n",
       "4   0.000870     -4.709886     R0057746_03  CATG00000070943  CATG00000070943.1  "
      ]
     },
     "execution_count": 6,
     "metadata": {},
     "output_type": "execute_result"
    }
   ],
   "source": [
    "ips_expr_filt = ips_expr[(((ips_expr[\"EdgeR.log2FC\"] < 0.5) & (ips_expr[\"EdgeR.Zscore\"] < -1.64)) | \n",
    "                                ((ips_expr[\"EdgeR.log2FC\"] > 0.5) & (ips_expr[\"EdgeR.Zscore\"] > 1.64))) & \n",
    "                                (ips_expr[\"EdgeR.FDR\"] < 0.05)]\n",
    "ips_expr_filt.reset_index(inplace=True, drop=True)\n",
    "ips_expr_filt.head()       "
   ]
  },
  {
   "cell_type": "code",
   "execution_count": 8,
   "id": "633d6207-724e-4d33-acd1-aa2222dde785",
   "metadata": {},
   "outputs": [
    {
     "data": {
      "text/plain": [
       "(16294, 10)"
      ]
     },
     "execution_count": 8,
     "metadata": {},
     "output_type": "execute_result"
    }
   ],
   "source": [
    "ips_expr_filt.shape"
   ]
  },
  {
   "cell_type": "code",
   "execution_count": null,
   "id": "b788a7ec-3f8e-4514-aacf-87142ce5ccaf",
   "metadata": {},
   "outputs": [],
   "source": [
    "for key, subdf in ips_expr_filt.groupby(by=[\"target.geneID\", \"target.gapmerID\"]):\n",
    "    print(key, subdf.shape[0])"
   ]
  },
  {
   "cell_type": "code",
   "execution_count": 85,
   "id": "172b1dca-d38c-4866-ba75-6ee2bd1d3f91",
   "metadata": {},
   "outputs": [],
   "source": [
    "def indexing_deg(lnc_ens, aso, subdf):\n",
    "    to_index = IPS_INDEX / lnc_ens\n",
    "    to_index.mkdir(exist_ok=True, parents=True)\n",
    "    to_save = to_index / f\"{lnc_ens}-{aso}-.tsv.gz\"\n",
    "    subdf.to_csv(to_save, sep=\"\\t\", compression=\"gzip\", index=False)    "
   ]
  },
  {
   "cell_type": "code",
   "execution_count": 86,
   "id": "4483b6d6-7af0-4728-aa8d-699279e31fd4",
   "metadata": {},
   "outputs": [],
   "source": [
    "with Parallel(n_jobs=-1) as pool:\n",
    "    chunks = pool(\n",
    "        delayed(indexing_deg)(lnc_ens, aso, subdf)\n",
    "        for (lnc_ens, aso), subdf in ips_expr_filt.groupby(by=[\"target.geneID\", \"target.gapmerID\"])\n",
    "    )"
   ]
  },
  {
   "cell_type": "code",
   "execution_count": null,
   "id": "9004f13d-b316-4307-989b-d3dd8569cb34",
   "metadata": {},
   "outputs": [],
   "source": []
  },
  {
   "cell_type": "code",
   "execution_count": null,
   "id": "6a5d8c3a-0651-4dfa-9b7a-9463a92aa6c9",
   "metadata": {},
   "outputs": [],
   "source": []
  },
  {
   "cell_type": "code",
   "execution_count": 13,
   "id": "acd3ebeb-9b5f-4645-bbec-8b0292f06ad8",
   "metadata": {},
   "outputs": [],
   "source": [
    "fantom_lv2 = pd.read_csv(FANTOM / \"FANTOM_CAT.lv2_permissive.info_table.gene.tsv.gz\", sep=\"\\t\")"
   ]
  },
  {
   "cell_type": "code",
   "execution_count": 279,
   "id": "a1075e23-1401-4e4f-ada8-478c035ac0b6",
   "metadata": {},
   "outputs": [],
   "source": [
    "fantom_lv2_mapping = fantom_lv2[[\"geneID_without_v\", \"geneName\"]].set_index(\"geneID_without_v\")"
   ]
  },
  {
   "cell_type": "code",
   "execution_count": 61,
   "id": "7c43632b-c90d-4200-9ff5-17b247320307",
   "metadata": {},
   "outputs": [
    {
     "name": "stdout",
     "output_type": "stream",
     "text": [
      "CPU times: user 59.9 ms, sys: 0 ns, total: 59.9 ms\n",
      "Wall time: 58.6 ms\n"
     ]
    }
   ],
   "source": [
    "%%time\n",
    "deg_gene_ids = set(subdf[\"DEG.geneID\"])\n",
    "deg_mask = fantom_lv2[\"geneID\"].apply(lambda x: x.split(\".\")[0] in deg_gene_ids)"
   ]
  },
  {
   "cell_type": "code",
   "execution_count": 230,
   "id": "0242087a-b704-4100-87be-a58ea4bcd6bf",
   "metadata": {},
   "outputs": [],
   "source": [
    "def create_matrix(to_deg, to_himorna):\n",
    "    deg_gene_ids = np.asarray(pd.read_csv(to_deg, sep=\"\\t\", usecols=[\"DEG.geneID\"])[\"DEG.geneID\"])\n",
    "    corr_gene_ids = np.asarray(pd.read_csv(to_himorna, sep=\"\\t\", usecols=[\"gene_ens\"])[\"gene_ens\"])\n",
    "    \n",
    "    deg_mask = fantom_lv2[\"geneID_without_v\"].isin(deg_gene_ids)\n",
    "    corr_mask = fantom_lv2[\"geneID_without_v\"].isin(corr_gene_ids)\n",
    "    TP = deg_mask & corr_mask\n",
    "    TN = deg_mask & ~corr_mask\n",
    "    FP = ~deg_mask & corr_mask\n",
    "    FN = ~(deg_mask | corr_mask)\n",
    "    \n",
    "    to_save = MATRICES / to_himorna.name.split('-')[0] / f\"{to_himorna.name.split('-')[1]}-{to_deg.name.split('-')[1]}-.npy\"\n",
    "    if to_save.exists():\n",
    "        print(f\"Skipped: ({to_himorna.name.split('-')[0]}) {to_himorna.name.split('-')[1]} {to_deg.name.split('-')[1]}\")\n",
    "        return\n",
    "    to_save.parent.mkdir(exist_ok=True, parents=True)\n",
    "    np.save(to_save, np.stack((TP, TN, FP, FN)))"
   ]
  },
  {
   "cell_type": "markdown",
   "id": "adc7bdfd-b2de-4a58-95eb-5dd76f419c16",
   "metadata": {},
   "source": [
    "def create_matrix_1(to_deg, to_himorna):\n",
    "    deg_gene_ids = pd.read_csv(to_deg, sep=\"\\t\", usecols=[\"DEG.geneID\"])[\"DEG.geneID\"]\n",
    "    corr_gene_ids = pd.read_csv(to_himorna, sep=\"\\t\", usecols=[\"gene_ens\"])[\"gene_ens\"]\n",
    "    \n",
    "    deg_mask = np.asarray(fantom_lv2[\"geneID\"].apply(lambda x: x.split(\".\")[0] in deg_gene_ids))\n",
    "    corr_mask = np.asarray(fantom_lv2[\"geneID\"].apply(lambda x: x.split(\".\")[0] in corr_gene_ids))\n",
    "    TP = deg_mask & corr_mask\n",
    "    TN = deg_mask & ~corr_mask\n",
    "    FP = ~deg_mask & corr_mask\n",
    "    FN = ~(deg_mask | corr_mask)\n",
    "    return [TP, TN, FP, FN]\n",
    "        \n",
    "def create_matrix_2(to_deg, to_himorna):\n",
    "    deg_gene_ids = pd.read_csv(to_deg, sep=\"\\t\", usecols=[\"DEG.geneID\"])[\"DEG.geneID\"]\n",
    "    corr_gene_ids = pd.read_csv(to_himorna, sep=\"\\t\", usecols=[\"gene_ens\"])[\"gene_ens\"]\n",
    "    \n",
    "    deg_mask = np.asarray(fantom_lv2[\"geneID\"].apply(lambda x: x.split(\".\")[0] in deg_gene_ids))\n",
    "    corr_mask = np.asarray(fantom_lv2[\"geneID\"].apply(lambda x: x.split(\".\")[0] in corr_gene_ids))\n",
    "    TP = np.logical_and(deg_mask, corr_mask)\n",
    "    TN = np.logical_xor(deg_mask, corr_mask)\n",
    "    FP = np.logical_xor(corr_mask, deg_mask)\n",
    "    FN = np.logical_not(np.logical_or(corr_mask, deg_mask))\n",
    "    return [TP, TN, FP, FN]\n",
    "\n",
    "def create_matrix_3(to_deg, to_himorna):\n",
    "    deg_gene_ids = np.asarray(pd.read_csv(to_deg, sep=\"\\t\", usecols=[\"DEG.geneID\"])[\"DEG.geneID\"])\n",
    "    corr_gene_ids = np.asarray(pd.read_csv(to_himorna, sep=\"\\t\", usecols=[\"gene_ens\"])[\"gene_ens\"])\n",
    "    \n",
    "    deg_mask = fantom_lv2[\"geneID_without_v\"].isin(deg_gene_ids)\n",
    "    corr_mask = fantom_lv2[\"geneID_without_v\"].isin(corr_gene_ids)\n",
    "    TP = deg_mask & corr_mask\n",
    "    TN = deg_mask & ~corr_mask\n",
    "    FP = ~deg_mask & corr_mask\n",
    "    FN = ~(deg_mask | corr_mask)\n",
    "    return np.stack((TP, TN, FP, FN))"
   ]
  },
  {
   "cell_type": "code",
   "execution_count": 231,
   "id": "ff612a3b-69cf-4ed2-8f8e-bb31a218aa07",
   "metadata": {},
   "outputs": [],
   "source": [
    "with Parallel(n_jobs=-1) as pool:\n",
    "    chunks = pool(\n",
    "        delayed(create_matrix)(to_deg, to_himorna)\n",
    "        for to_deg in IPS_INDEX.glob(('*/*.tsv.gz')) for to_himorna in HIMORNA_INDEX.glob((f'*/*-{to_deg.name.split(\"-\")[0]}-.tsv.gz'))\n",
    "    )"
   ]
  },
  {
   "cell_type": "markdown",
   "id": "e8967fbd-8cd8-4fd7-b94a-adeb0057b4f5",
   "metadata": {
    "collapsed": true,
    "jupyter": {
     "outputs_hidden": true
    }
   },
   "source": [
    "with Parallel(n_jobs=-1) as pool:\n",
    "    chunks = pool(\n",
    "        delayed(create_matrix)(to_deg, to_himorna)\n",
    "        for to_deg in IPS_INDEX.glob(('*/*.tsv.gz')) for to_himorna in HIMORNA_INDEX.glob(('*/*.tsv.gz'))\n",
    "    )"
   ]
  },
  {
   "cell_type": "markdown",
   "id": "b28d5692-114f-4e0b-a7aa-4906d94e00b4",
   "metadata": {},
   "source": [
    "deg_gene_ids = pd.read_csv(IPS_INDEX / \"ENSG00000196668\" / \"ENSG00000196668-G0196668_02-.tsv.gz\", sep=\"\\t\")\n",
    "corr_gene_ids = pd.read_csv(HIMORNA_INDEX / \"H3K4me3\" / \"H3K4me3-ENSG00000196668-.tsv.gz\", sep=\"\\t\")"
   ]
  },
  {
   "cell_type": "markdown",
   "id": "31e6c51e-10df-4a95-9f7a-afd2ffae13bd",
   "metadata": {},
   "source": [
    "fantom_lv2[\"geneID_without_v\"] = fantom_lv2[\"geneID\"].apply(lambda x: x.split(\".\")[0])"
   ]
  },
  {
   "cell_type": "markdown",
   "id": "896bfcdd-cd96-47ba-b056-49cff74a0827",
   "metadata": {},
   "source": [
    "%%time\n",
    "[np.sum(create_matrix_1(IPS_INDEX / \"ENSG00000196668\" / \"ENSG00000196668-G0196668_02-.tsv.gz\", HIMORNA_INDEX / \"H3K4me3\" / \"H3K4me3-ENSG00000196668-.tsv.gz\")) for i in range(10)]"
   ]
  },
  {
   "cell_type": "markdown",
   "id": "30664b5c-ffdc-4138-802a-a5c2bb3b7de7",
   "metadata": {},
   "source": [
    "%%time\n",
    "[np.sum(create_matrix_1(IPS_INDEX / \"ENSG00000196668\" / \"ENSG00000196668-G0196668_02-.tsv.gz\", HIMORNA_INDEX / \"H3K4me3\" / \"H3K4me3-ENSG00000196668-.tsv.gz\")) for i in range(10)]"
   ]
  },
  {
   "cell_type": "markdown",
   "id": "548bb8aa-b0ae-42c8-b385-60a802f5db35",
   "metadata": {},
   "source": [
    "%%time\n",
    "[np.sum(create_matrix_2(IPS_INDEX / \"ENSG00000196668\" / \"ENSG00000196668-G0196668_02-.tsv.gz\", HIMORNA_INDEX / \"H3K4me3\" / \"H3K4me3-ENSG00000196668-.tsv.gz\")) for i in range(10)]"
   ]
  },
  {
   "cell_type": "markdown",
   "id": "615c88cf-fd8c-4d2b-9aec-82b1cb96de82",
   "metadata": {},
   "source": [
    "%%time\n",
    "[np.sum(create_matrix_3(IPS_INDEX / \"ENSG00000196668\" / \"ENSG00000196668-G0196668_02-.tsv.gz\", HIMORNA_INDEX / \"H3K4me3\" / \"H3K4me3-ENSG00000196668-.tsv.gz\")) for i in range(10)]"
   ]
  },
  {
   "cell_type": "markdown",
   "id": "a2b7726d-980a-41e0-9a34-7cd177859e0e",
   "metadata": {},
   "source": [
    "create_matrix_3(IPS_INDEX / \"ENSG00000196668\" / \"ENSG00000196668-G0196668_02-.tsv.gz\", HIMORNA_INDEX / \"H3K4me3\" / \"H3K4me3-ENSG00000196668-.tsv.gz\")"
   ]
  },
  {
   "cell_type": "code",
   "execution_count": 228,
   "id": "fb215de3-7691-4962-a334-67f304a3e757",
   "metadata": {},
   "outputs": [],
   "source": [
    "def fisher_exact_test(to_matrice):\n",
    "    matrice = np.sum(np.load(to_matrice), axis=1)\n",
    "    fisher_exact_res = fisher_exact([[matrice[0], matrice[1]], \n",
    "                         [matrice[2], matrice[3]]], alternative='two-sided')\n",
    "    return fisher_exact_res[1]\n",
    "    #return matrice"
   ]
  },
  {
   "cell_type": "code",
   "execution_count": 227,
   "id": "6fb4ea2b-3fa9-4583-be0e-5ba211370e4a",
   "metadata": {},
   "outputs": [
    {
     "data": {
      "text/plain": [
       "array([     0,    128,      7, 124110])"
      ]
     },
     "execution_count": 227,
     "metadata": {},
     "output_type": "execute_result"
    }
   ],
   "source": [
    "fisher_exact_test(MATRICES / \"H3K27ac\" / \"ENSG00000233184-G0233184_04-.npy\")"
   ]
  },
  {
   "cell_type": "code",
   "execution_count": 251,
   "id": "1e6b20c6-fa6d-4273-ba2c-8eefe86dafaf",
   "metadata": {},
   "outputs": [],
   "source": [
    "def job(hm):\n",
    "    p_values = []\n",
    "    lncrna = []\n",
    "    aso = []\n",
    "    for to_matrice in (MATRICES / hm).glob('*'):\n",
    "        p_values.append(fisher_exact_test(to_matrice))\n",
    "        lncrna.append(to_matrice.name.split(\"-\")[0])\n",
    "        aso.append(to_matrice.name.split(\"-\")[1])\n",
    "    df = pd.DataFrame({\"hm\": [hm for i in range(len(p_values))],\n",
    "                       \"lnc_ens\": lncrna,\n",
    "                       \"aso\": aso,\n",
    "                       \"p_value\": p_values})\n",
    "    p_value_adj_bonf = multipletests(df[\"p_value\"], method='bonferroni', is_sorted=False, returnsorted=False)[1]\n",
    "    df['p_value_adj_bonf'] = p_value_adj_bonf\n",
    "    to_save = FISHER / f\"{hm}.tsv\"\n",
    "    if to_save.exists():\n",
    "        print(f\"Skipped: {hm}\")\n",
    "        return\n",
    "    to_save.parent.mkdir(exist_ok=True, parents=True)\n",
    "    df.to_csv(to_save, sep=\"\\t\", index=False)"
   ]
  },
  {
   "cell_type": "code",
   "execution_count": 254,
   "id": "a869e112-170b-4cff-a040-ba62e2c2dbe6",
   "metadata": {},
   "outputs": [],
   "source": [
    "with Parallel(n_jobs=-1) as pool:\n",
    "    chunks = pool(\n",
    "        delayed(job)(hm.name)\n",
    "        for hm in MATRICES.iterdir())"
   ]
  },
  {
   "cell_type": "code",
   "execution_count": null,
   "id": "324a823a-03ce-4bc0-8a78-3e9db5fc9590",
   "metadata": {},
   "outputs": [],
   "source": []
  },
  {
   "cell_type": "code",
   "execution_count": 256,
   "id": "efb25050-b0b0-4371-8f4f-60b0576068e0",
   "metadata": {},
   "outputs": [],
   "source": [
    "fisher_results = {to_df.stem: pd.read_csv(to_df ,sep=\"\\t\") for to_df in FISHER.glob(\"*.tsv\")}"
   ]
  },
  {
   "cell_type": "code",
   "execution_count": 267,
   "id": "cb3c2f6d-d16d-479b-92fc-a7ff5bd183f4",
   "metadata": {},
   "outputs": [],
   "source": [
    "treshold_p_value = 0.05\n",
    "fisher_results_filt = []\n",
    "for hm in fisher_results:\n",
    "    fisher_results_filt.append(fisher_results[hm].query(f\"p_value_adj_bonf < {treshold_p_value}\").reset_index(drop=True))\n",
    "fisher_results_filt = pd.concat(fisher_results_filt).reset_index(drop=True)"
   ]
  },
  {
   "cell_type": "code",
   "execution_count": 281,
   "id": "851dd601-212a-4057-9d81-17e0db075687",
   "metadata": {
    "scrolled": true
   },
   "outputs": [],
   "source": [
    "fisher_results_filt[\"lnc\"] = fisher_results_filt[\"lnc_ens\"].apply(lambda x: fantom_lv2_mapping.loc[x, \"geneName\"])"
   ]
  },
  {
   "cell_type": "code",
   "execution_count": 284,
   "id": "517bdcf2-f6c9-4554-a2e7-48961d066b82",
   "metadata": {},
   "outputs": [
    {
     "data": {
      "text/html": [
       "<div>\n",
       "<style scoped>\n",
       "    .dataframe tbody tr th:only-of-type {\n",
       "        vertical-align: middle;\n",
       "    }\n",
       "\n",
       "    .dataframe tbody tr th {\n",
       "        vertical-align: top;\n",
       "    }\n",
       "\n",
       "    .dataframe thead th {\n",
       "        text-align: right;\n",
       "    }\n",
       "</style>\n",
       "<table border=\"1\" class=\"dataframe\">\n",
       "  <thead>\n",
       "    <tr style=\"text-align: right;\">\n",
       "      <th></th>\n",
       "      <th>hm</th>\n",
       "      <th>lnc_ens</th>\n",
       "      <th>aso</th>\n",
       "      <th>p_value</th>\n",
       "      <th>p_value_adj_bonf</th>\n",
       "      <th>lnc</th>\n",
       "    </tr>\n",
       "  </thead>\n",
       "  <tbody>\n",
       "    <tr>\n",
       "      <th>5</th>\n",
       "      <td>H3K4me2</td>\n",
       "      <td>ENSG00000235560</td>\n",
       "      <td>G0235560_01</td>\n",
       "      <td>2.803825e-10</td>\n",
       "      <td>1.878562e-08</td>\n",
       "      <td>AC002310.12</td>\n",
       "    </tr>\n",
       "    <tr>\n",
       "      <th>8</th>\n",
       "      <td>H3K4me2</td>\n",
       "      <td>ENSG00000235560</td>\n",
       "      <td>G0235560_03</td>\n",
       "      <td>3.290078e-06</td>\n",
       "      <td>2.204352e-04</td>\n",
       "      <td>AC002310.12</td>\n",
       "    </tr>\n",
       "    <tr>\n",
       "      <th>20</th>\n",
       "      <td>H3K27ac</td>\n",
       "      <td>ENSG00000227403</td>\n",
       "      <td>G0227403_04</td>\n",
       "      <td>1.793569e-04</td>\n",
       "      <td>1.381048e-02</td>\n",
       "      <td>AC009299.3</td>\n",
       "    </tr>\n",
       "    <tr>\n",
       "      <th>30</th>\n",
       "      <td>H3K4me1</td>\n",
       "      <td>ENSG00000227403</td>\n",
       "      <td>G0227403_04</td>\n",
       "      <td>1.557503e-04</td>\n",
       "      <td>1.386178e-02</td>\n",
       "      <td>AC009299.3</td>\n",
       "    </tr>\n",
       "    <tr>\n",
       "      <th>23</th>\n",
       "      <td>H3K27ac</td>\n",
       "      <td>ENSG00000212978</td>\n",
       "      <td>G0212978_03</td>\n",
       "      <td>1.335501e-04</td>\n",
       "      <td>1.028335e-02</td>\n",
       "      <td>AC016747.3</td>\n",
       "    </tr>\n",
       "    <tr>\n",
       "      <th>16</th>\n",
       "      <td>H3K4me3</td>\n",
       "      <td>ENSG00000212978</td>\n",
       "      <td>G0212978_03</td>\n",
       "      <td>2.382738e-04</td>\n",
       "      <td>2.430393e-02</td>\n",
       "      <td>AC016747.3</td>\n",
       "    </tr>\n",
       "    <tr>\n",
       "      <th>13</th>\n",
       "      <td>H3K4me3</td>\n",
       "      <td>ENSG00000225975</td>\n",
       "      <td>G0225975_05</td>\n",
       "      <td>2.575401e-04</td>\n",
       "      <td>2.626909e-02</td>\n",
       "      <td>AC074138.3</td>\n",
       "    </tr>\n",
       "    <tr>\n",
       "      <th>26</th>\n",
       "      <td>H3K9ac</td>\n",
       "      <td>ENSG00000245937</td>\n",
       "      <td>G0245937_01</td>\n",
       "      <td>2.845680e-04</td>\n",
       "      <td>1.622037e-02</td>\n",
       "      <td>CTC-228N24.3</td>\n",
       "    </tr>\n",
       "    <tr>\n",
       "      <th>17</th>\n",
       "      <td>H3K4me3</td>\n",
       "      <td>ENSG00000245937</td>\n",
       "      <td>G0245937_01</td>\n",
       "      <td>1.844638e-04</td>\n",
       "      <td>1.881531e-02</td>\n",
       "      <td>CTC-228N24.3</td>\n",
       "    </tr>\n",
       "    <tr>\n",
       "      <th>10</th>\n",
       "      <td>H3K4me2</td>\n",
       "      <td>ENSG00000249042</td>\n",
       "      <td>G0249042_08</td>\n",
       "      <td>4.591768e-08</td>\n",
       "      <td>3.076485e-06</td>\n",
       "      <td>CTD-2015H6.3</td>\n",
       "    </tr>\n",
       "    <tr>\n",
       "      <th>22</th>\n",
       "      <td>H3K27ac</td>\n",
       "      <td>ENSG00000249042</td>\n",
       "      <td>G0249042_08</td>\n",
       "      <td>3.613109e-06</td>\n",
       "      <td>2.782094e-04</td>\n",
       "      <td>CTD-2015H6.3</td>\n",
       "    </tr>\n",
       "    <tr>\n",
       "      <th>31</th>\n",
       "      <td>H3K4me1</td>\n",
       "      <td>ENSG00000249042</td>\n",
       "      <td>G0249042_08</td>\n",
       "      <td>1.594663e-04</td>\n",
       "      <td>1.419250e-02</td>\n",
       "      <td>CTD-2015H6.3</td>\n",
       "    </tr>\n",
       "    <tr>\n",
       "      <th>21</th>\n",
       "      <td>H3K27ac</td>\n",
       "      <td>ENSG00000196668</td>\n",
       "      <td>G0196668_08</td>\n",
       "      <td>1.764837e-15</td>\n",
       "      <td>1.358924e-13</td>\n",
       "      <td>LINC00173</td>\n",
       "    </tr>\n",
       "    <tr>\n",
       "      <th>9</th>\n",
       "      <td>H3K4me2</td>\n",
       "      <td>ENSG00000196668</td>\n",
       "      <td>G0196668_08</td>\n",
       "      <td>1.084557e-12</td>\n",
       "      <td>7.266531e-11</td>\n",
       "      <td>LINC00173</td>\n",
       "    </tr>\n",
       "    <tr>\n",
       "      <th>19</th>\n",
       "      <td>H3K27ac</td>\n",
       "      <td>ENSG00000196668</td>\n",
       "      <td>G0196668_02</td>\n",
       "      <td>1.681718e-12</td>\n",
       "      <td>1.294923e-10</td>\n",
       "      <td>LINC00173</td>\n",
       "    </tr>\n",
       "    <tr>\n",
       "      <th>4</th>\n",
       "      <td>H3K4me2</td>\n",
       "      <td>ENSG00000196668</td>\n",
       "      <td>G0196668_02</td>\n",
       "      <td>2.032593e-09</td>\n",
       "      <td>1.361838e-07</td>\n",
       "      <td>LINC00173</td>\n",
       "    </tr>\n",
       "    <tr>\n",
       "      <th>25</th>\n",
       "      <td>H3K9ac</td>\n",
       "      <td>ENSG00000196668</td>\n",
       "      <td>G0196668_08</td>\n",
       "      <td>2.121320e-04</td>\n",
       "      <td>1.209152e-02</td>\n",
       "      <td>LINC00173</td>\n",
       "    </tr>\n",
       "    <tr>\n",
       "      <th>0</th>\n",
       "      <td>H3K27me3</td>\n",
       "      <td>ENSG00000250337</td>\n",
       "      <td>G0250337_05</td>\n",
       "      <td>1.044787e-04</td>\n",
       "      <td>8.044861e-03</td>\n",
       "      <td>LINC01021</td>\n",
       "    </tr>\n",
       "    <tr>\n",
       "      <th>6</th>\n",
       "      <td>H3K4me2</td>\n",
       "      <td>ENSG00000250337</td>\n",
       "      <td>G0250337_05</td>\n",
       "      <td>2.983490e-04</td>\n",
       "      <td>1.998938e-02</td>\n",
       "      <td>LINC01021</td>\n",
       "    </tr>\n",
       "    <tr>\n",
       "      <th>12</th>\n",
       "      <td>H3K4me3</td>\n",
       "      <td>ENSG00000234608</td>\n",
       "      <td>G0234608_03</td>\n",
       "      <td>1.286297e-17</td>\n",
       "      <td>1.312023e-15</td>\n",
       "      <td>MAPKAPK5-AS1</td>\n",
       "    </tr>\n",
       "    <tr>\n",
       "      <th>14</th>\n",
       "      <td>H3K4me3</td>\n",
       "      <td>ENSG00000234608</td>\n",
       "      <td>G0234608_AD_08</td>\n",
       "      <td>2.163791e-08</td>\n",
       "      <td>2.207067e-06</td>\n",
       "      <td>MAPKAPK5-AS1</td>\n",
       "    </tr>\n",
       "    <tr>\n",
       "      <th>15</th>\n",
       "      <td>H3K4me3</td>\n",
       "      <td>ENSG00000247556</td>\n",
       "      <td>G0247556_09</td>\n",
       "      <td>8.580857e-23</td>\n",
       "      <td>8.752474e-21</td>\n",
       "      <td>OIP5-AS1</td>\n",
       "    </tr>\n",
       "    <tr>\n",
       "      <th>29</th>\n",
       "      <td>H3K4me1</td>\n",
       "      <td>ENSG00000237976</td>\n",
       "      <td>G0237976_03</td>\n",
       "      <td>9.157260e-05</td>\n",
       "      <td>8.149962e-03</td>\n",
       "      <td>RP11-126K1.6</td>\n",
       "    </tr>\n",
       "    <tr>\n",
       "      <th>3</th>\n",
       "      <td>H3K36me3</td>\n",
       "      <td>ENSG00000233184</td>\n",
       "      <td>G0233184_04</td>\n",
       "      <td>3.061645e-24</td>\n",
       "      <td>2.143151e-22</td>\n",
       "      <td>RP11-421L21.3</td>\n",
       "    </tr>\n",
       "    <tr>\n",
       "      <th>2</th>\n",
       "      <td>H3K36me3</td>\n",
       "      <td>ENSG00000233184</td>\n",
       "      <td>G0233184_03</td>\n",
       "      <td>1.973102e-07</td>\n",
       "      <td>1.381171e-05</td>\n",
       "      <td>RP11-421L21.3</td>\n",
       "    </tr>\n",
       "    <tr>\n",
       "      <th>27</th>\n",
       "      <td>H3K4me1</td>\n",
       "      <td>ENSG00000230623</td>\n",
       "      <td>G0230623_09</td>\n",
       "      <td>9.675634e-06</td>\n",
       "      <td>8.611314e-04</td>\n",
       "      <td>RP11-469A15.2</td>\n",
       "    </tr>\n",
       "    <tr>\n",
       "      <th>28</th>\n",
       "      <td>H3K4me1</td>\n",
       "      <td>ENSG00000263146</td>\n",
       "      <td>G0263146_04</td>\n",
       "      <td>8.329297e-13</td>\n",
       "      <td>7.413075e-11</td>\n",
       "      <td>RP11-849I19.1</td>\n",
       "    </tr>\n",
       "    <tr>\n",
       "      <th>18</th>\n",
       "      <td>H3K27ac</td>\n",
       "      <td>ENSG00000263146</td>\n",
       "      <td>G0263146_04</td>\n",
       "      <td>2.895048e-11</td>\n",
       "      <td>2.229187e-09</td>\n",
       "      <td>RP11-849I19.1</td>\n",
       "    </tr>\n",
       "    <tr>\n",
       "      <th>1</th>\n",
       "      <td>H3K27me3</td>\n",
       "      <td>ENSG00000234546</td>\n",
       "      <td>G0234546_02</td>\n",
       "      <td>1.625129e-08</td>\n",
       "      <td>1.251349e-06</td>\n",
       "      <td>RP3-510D11.2</td>\n",
       "    </tr>\n",
       "    <tr>\n",
       "      <th>11</th>\n",
       "      <td>H3K4me2</td>\n",
       "      <td>ENSG00000234546</td>\n",
       "      <td>G0234546_02</td>\n",
       "      <td>5.593146e-07</td>\n",
       "      <td>3.747408e-05</td>\n",
       "      <td>RP3-510D11.2</td>\n",
       "    </tr>\n",
       "    <tr>\n",
       "      <th>24</th>\n",
       "      <td>H3K27ac</td>\n",
       "      <td>ENSG00000234546</td>\n",
       "      <td>G0234546_02</td>\n",
       "      <td>5.314236e-06</td>\n",
       "      <td>4.091962e-04</td>\n",
       "      <td>RP3-510D11.2</td>\n",
       "    </tr>\n",
       "    <tr>\n",
       "      <th>7</th>\n",
       "      <td>H3K4me2</td>\n",
       "      <td>ENSG00000246273</td>\n",
       "      <td>G0246273_02</td>\n",
       "      <td>1.078811e-04</td>\n",
       "      <td>7.228035e-03</td>\n",
       "      <td>SBF2-AS1</td>\n",
       "    </tr>\n",
       "  </tbody>\n",
       "</table>\n",
       "</div>"
      ],
      "text/plain": [
       "          hm          lnc_ens             aso       p_value  p_value_adj_bonf  \\\n",
       "5    H3K4me2  ENSG00000235560     G0235560_01  2.803825e-10      1.878562e-08   \n",
       "8    H3K4me2  ENSG00000235560     G0235560_03  3.290078e-06      2.204352e-04   \n",
       "20   H3K27ac  ENSG00000227403     G0227403_04  1.793569e-04      1.381048e-02   \n",
       "30   H3K4me1  ENSG00000227403     G0227403_04  1.557503e-04      1.386178e-02   \n",
       "23   H3K27ac  ENSG00000212978     G0212978_03  1.335501e-04      1.028335e-02   \n",
       "16   H3K4me3  ENSG00000212978     G0212978_03  2.382738e-04      2.430393e-02   \n",
       "13   H3K4me3  ENSG00000225975     G0225975_05  2.575401e-04      2.626909e-02   \n",
       "26    H3K9ac  ENSG00000245937     G0245937_01  2.845680e-04      1.622037e-02   \n",
       "17   H3K4me3  ENSG00000245937     G0245937_01  1.844638e-04      1.881531e-02   \n",
       "10   H3K4me2  ENSG00000249042     G0249042_08  4.591768e-08      3.076485e-06   \n",
       "22   H3K27ac  ENSG00000249042     G0249042_08  3.613109e-06      2.782094e-04   \n",
       "31   H3K4me1  ENSG00000249042     G0249042_08  1.594663e-04      1.419250e-02   \n",
       "21   H3K27ac  ENSG00000196668     G0196668_08  1.764837e-15      1.358924e-13   \n",
       "9    H3K4me2  ENSG00000196668     G0196668_08  1.084557e-12      7.266531e-11   \n",
       "19   H3K27ac  ENSG00000196668     G0196668_02  1.681718e-12      1.294923e-10   \n",
       "4    H3K4me2  ENSG00000196668     G0196668_02  2.032593e-09      1.361838e-07   \n",
       "25    H3K9ac  ENSG00000196668     G0196668_08  2.121320e-04      1.209152e-02   \n",
       "0   H3K27me3  ENSG00000250337     G0250337_05  1.044787e-04      8.044861e-03   \n",
       "6    H3K4me2  ENSG00000250337     G0250337_05  2.983490e-04      1.998938e-02   \n",
       "12   H3K4me3  ENSG00000234608     G0234608_03  1.286297e-17      1.312023e-15   \n",
       "14   H3K4me3  ENSG00000234608  G0234608_AD_08  2.163791e-08      2.207067e-06   \n",
       "15   H3K4me3  ENSG00000247556     G0247556_09  8.580857e-23      8.752474e-21   \n",
       "29   H3K4me1  ENSG00000237976     G0237976_03  9.157260e-05      8.149962e-03   \n",
       "3   H3K36me3  ENSG00000233184     G0233184_04  3.061645e-24      2.143151e-22   \n",
       "2   H3K36me3  ENSG00000233184     G0233184_03  1.973102e-07      1.381171e-05   \n",
       "27   H3K4me1  ENSG00000230623     G0230623_09  9.675634e-06      8.611314e-04   \n",
       "28   H3K4me1  ENSG00000263146     G0263146_04  8.329297e-13      7.413075e-11   \n",
       "18   H3K27ac  ENSG00000263146     G0263146_04  2.895048e-11      2.229187e-09   \n",
       "1   H3K27me3  ENSG00000234546     G0234546_02  1.625129e-08      1.251349e-06   \n",
       "11   H3K4me2  ENSG00000234546     G0234546_02  5.593146e-07      3.747408e-05   \n",
       "24   H3K27ac  ENSG00000234546     G0234546_02  5.314236e-06      4.091962e-04   \n",
       "7    H3K4me2  ENSG00000246273     G0246273_02  1.078811e-04      7.228035e-03   \n",
       "\n",
       "              lnc  \n",
       "5     AC002310.12  \n",
       "8     AC002310.12  \n",
       "20     AC009299.3  \n",
       "30     AC009299.3  \n",
       "23     AC016747.3  \n",
       "16     AC016747.3  \n",
       "13     AC074138.3  \n",
       "26   CTC-228N24.3  \n",
       "17   CTC-228N24.3  \n",
       "10   CTD-2015H6.3  \n",
       "22   CTD-2015H6.3  \n",
       "31   CTD-2015H6.3  \n",
       "21      LINC00173  \n",
       "9       LINC00173  \n",
       "19      LINC00173  \n",
       "4       LINC00173  \n",
       "25      LINC00173  \n",
       "0       LINC01021  \n",
       "6       LINC01021  \n",
       "12   MAPKAPK5-AS1  \n",
       "14   MAPKAPK5-AS1  \n",
       "15       OIP5-AS1  \n",
       "29   RP11-126K1.6  \n",
       "3   RP11-421L21.3  \n",
       "2   RP11-421L21.3  \n",
       "27  RP11-469A15.2  \n",
       "28  RP11-849I19.1  \n",
       "18  RP11-849I19.1  \n",
       "1    RP3-510D11.2  \n",
       "11   RP3-510D11.2  \n",
       "24   RP3-510D11.2  \n",
       "7        SBF2-AS1  "
      ]
     },
     "execution_count": 284,
     "metadata": {},
     "output_type": "execute_result"
    }
   ],
   "source": [
    "fisher_results_filt.sort_values(by=[\"lnc\", \"p_value_adj_bonf\"])"
   ]
  }
 ],
 "metadata": {
  "kernelspec": {
   "display_name": "Python 3 (ipykernel)",
   "language": "python",
   "name": "python3"
  },
  "language_info": {
   "codemirror_mode": {
    "name": "ipython",
    "version": 3
   },
   "file_extension": ".py",
   "mimetype": "text/x-python",
   "name": "python",
   "nbconvert_exporter": "python",
   "pygments_lexer": "ipython3",
   "version": "3.9.18"
  }
 },
 "nbformat": 4,
 "nbformat_minor": 5
}
