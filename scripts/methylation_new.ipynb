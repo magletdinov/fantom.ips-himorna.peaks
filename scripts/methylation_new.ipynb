{
 "cells": [
  {
   "cell_type": "code",
   "execution_count": 1,
   "id": "7809e3d9-3566-4094-8966-eb04f614ae90",
   "metadata": {},
   "outputs": [],
   "source": [
    "from pathlib import Path\n",
    "import h5py\n",
    "import pandas as pd\n",
    "import numpy as np\n",
    "from joblib import Parallel, delayed\n",
    "import subprocess"
   ]
  },
  {
   "cell_type": "code",
   "execution_count": 6,
   "id": "5919ca1f-586c-4c75-bdd1-bec7d50e758e",
   "metadata": {},
   "outputs": [],
   "source": [
    "import h5py\n",
    "import numpy as np\n",
    "import pandas as pd\n",
    "from pathlib import Path\n",
    "PWD = Path().cwd()\n",
    "MAZUR = Path(\"/data/mazurovev/all_marks/methylation/lncRNA_Peaks_corrs\").resolve()\n",
    "DATA = Path(\"../data\")\n",
    "METHYL = DATA / \"methylation_peaks\"\n",
    "ANNO = Path(\"/home/magletdinov/shared/annotations\")\n",
    "PREPROCESSING = Path(\"../preprocessing\")\n",
    "METHYL_INDEX = PREPROCESSING / \"methyl_index\""
   ]
  },
  {
   "cell_type": "code",
   "execution_count": 3,
   "id": "c1c0706f-5318-4cd9-8d64-fadfaac63a15",
   "metadata": {},
   "outputs": [],
   "source": [
    "import gzip\n",
    "import pandas as pd\n",
    "\n",
    "# Функция для чтения GTF-файла и подсчета уникальных генов\n",
    "def count_genes_in_gtf(gtf_file):\n",
    "    # Открываем файл\n",
    "    with gzip.open(gtf_file, 'rt') as f:\n",
    "        # Считываем строки, относящиеся к генам\n",
    "        gene_lines = [line for line in f if 'gene' in line and line.split('\\t')[2] == 'gene']\n",
    "        \n",
    "    # Выделяем ID генов из строк\n",
    "    gene_ids = set()\n",
    "    for line in gene_lines:\n",
    "        # Разбиваем строку на колонки\n",
    "        columns = line.split('\\t')\n",
    "        # Последняя колонка содержит атрибуты, ищем gene_id\n",
    "        attributes = columns[8]\n",
    "        for attribute in attributes.split(';'):\n",
    "            if 'gene_id' in attribute:\n",
    "                gene_id = attribute.split('\"')[1]\n",
    "                gene_ids.add(gene_id)\n",
    "                break\n",
    "    \n",
    "    return len(gene_ids)"
   ]
  },
  {
   "cell_type": "code",
   "execution_count": 4,
   "id": "469164c3-c853-48fb-9c8c-183ed9b68b54",
   "metadata": {},
   "outputs": [],
   "source": [
    "def get_all_correlated_peaks(hm, to_hdf5, to_save):\n",
    "    if to_save.exists():\n",
    "        print(f\"Skipped: {to_hdf5.stem}\")\n",
    "        return None\n",
    "    all_results = []\n",
    "\n",
    "    # Открываем HDF5 файл\n",
    "    with h5py.File(to_hdf5, 'r') as f:\n",
    "        lncRNAs = list(f['lncRNAs_names'][:])\n",
    "        corrs_matrix = f['corrs_matrix'][:]\n",
    "\n",
    "    # Читаем пики\n",
    "    peaks = pd.read_csv(Path(\"/data/mazurovev/all_marks\") / hm / \"merged_peaks_first_in_biosample.bed\", sep=\"\\t\", header=None)\n",
    "\n",
    "    for i, lncRNA in enumerate(lncRNAs):\n",
    "        corrs = corrs_matrix[i, :]\n",
    "        nonzero_indices = np.nonzero(corrs)[0]\n",
    "        nonzero_corrs = corrs[nonzero_indices]\n",
    "        nonzero_peaks = [\"peak_\" + str(j) for j in nonzero_indices]\n",
    "\n",
    "        # Извлекаем соответствующие пики\n",
    "        res = peaks[peaks[3].isin(nonzero_peaks)].copy()\n",
    "        res[\"corr\"] = nonzero_corrs\n",
    "        res[\"lnc_ens\"] = lncRNA.decode('utf-8')  # Декодируем байтовую строку в строку\n",
    "\n",
    "        all_results.append(res)\n",
    "\n",
    "    # Объединяем все результаты в один DataFrame\n",
    "    final_result = pd.concat(all_results, ignore_index=True)\n",
    "    \n",
    "    final_result.to_csv(to_save, sep=\"\\t\", compression=\"gzip\", index=False)"
   ]
  },
  {
   "cell_type": "code",
   "execution_count": null,
   "id": "a4b76458-d67a-48f9-86d5-04acd0ed73ed",
   "metadata": {},
   "outputs": [],
   "source": [
    "for to_hdf5 in MAZUR.glob(\"*.hdf5\"):\n",
    "    print(to_hdf5.stem)\n",
    "    to_save = METHYL / f\"{to_hdf5.stem}.tsv.gz\"\n",
    "    get_all_correlated_peaks(hm=\"methylation\", to_hdf5=to_hdf5, to_save=to_save)"
   ]
  },
  {
   "cell_type": "code",
   "execution_count": 12,
   "id": "7f3ec3a7-0ddf-4746-866c-7581c6dced58",
   "metadata": {},
   "outputs": [],
   "source": [
    "def indexing_methyl(chunk, lnc_ens, corr_sign, subdf):\n",
    "    to_index = METHYL_INDEX / chunk\n",
    "    to_index.mkdir(exist_ok=True, parents=True)\n",
    "    to_save = to_index / f\"methyl-{lnc_ens}-{corr_sign}-.tsv.gz\"\n",
    "    if to_save.exists():\n",
    "        print(f\"Skipped: methyl {lnc_ens} {corr_sign}\")\n",
    "        return None\n",
    "    subdf.to_csv(to_save, sep=\"\\t\", compression=\"gzip\", index=False)"
   ]
  },
  {
   "cell_type": "code",
   "execution_count": null,
   "id": "4f84cded-b62c-4de9-8909-b9f98e8ec2ac",
   "metadata": {},
   "outputs": [],
   "source": [
    "for to_df in METHYL.glob(\"*.tsv.gz\"):\n",
    "    print(to_df.stem)\n",
    "    chunk = to_df.stem.split(\"_\")[6]\n",
    "    df = pd.read_csv(to_df, sep=\"\\t\")\n",
    "    df.rename(columns={\"0\":\"chrom\", \"1\":\"start\", \"2\":\"end\", \"3\":\"name\"}, inplace=True)\n",
    "    df[\"corr\"] = df[\"corr\"].apply(lambda x: np.round(x, 3))\n",
    "    df[\"corr_sign\"] = np.where(df[\"corr\"] > 0, \"plus\", \"minus\")\n",
    "    for (lnc_ens, corr_sign), subdf in df.groupby(by=[\"lnc_ens\", \"corr_sign\"]):\n",
    "        indexing_methyl(chunk=chunk, lnc_ens=lnc_ens, corr_sign=corr_sign, subdf=subdf)"
   ]
  },
  {
   "cell_type": "code",
   "execution_count": null,
   "id": "0f50968b-cc45-4133-977c-baba50e6b156",
   "metadata": {},
   "outputs": [],
   "source": [
    "#Не хватает оперативной памяти\n",
    "dtype = {\n",
    "    \"chrom\": str,\n",
    "    \"start\": np.uint32,\n",
    "    \"end\": np.uint32\n",
    "}\n",
    "all_peaks = {}\n",
    "for sign in \"minus\",\"plus\":\n",
    "    all_peaks[sign] = pd.concat([pd.read_csv(to_df, sep=\"\\t\", dtype=dtype, header=None).loc[1:] for to_df in METHYL_INDEX.glob(f\"*{sign}*\")]).reset_index(drop=True)\\\n",
    "    .drop_duplicates().dropna()\n",
    "    \n",
    "all_peaks_df = pd.concat([all_peaks[sign] for sign in (\"minus\",\"plus\")]).drop_duplicates()\n",
    "del all_peaks"
   ]
  },
  {
   "cell_type": "code",
   "execution_count": 8,
   "id": "bebef528-7e17-43d3-bc13-b70a45d3bd59",
   "metadata": {},
   "outputs": [
    {
     "data": {
      "text/html": [
       "<div>\n",
       "<style scoped>\n",
       "    .dataframe tbody tr th:only-of-type {\n",
       "        vertical-align: middle;\n",
       "    }\n",
       "\n",
       "    .dataframe tbody tr th {\n",
       "        vertical-align: top;\n",
       "    }\n",
       "\n",
       "    .dataframe thead th {\n",
       "        text-align: right;\n",
       "    }\n",
       "</style>\n",
       "<table border=\"1\" class=\"dataframe\">\n",
       "  <thead>\n",
       "    <tr style=\"text-align: right;\">\n",
       "      <th></th>\n",
       "      <th>chrom</th>\n",
       "      <th>start</th>\n",
       "      <th>end</th>\n",
       "      <th>name</th>\n",
       "      <th>corr</th>\n",
       "      <th>lnc_ens</th>\n",
       "      <th>corr_sign</th>\n",
       "    </tr>\n",
       "  </thead>\n",
       "  <tbody>\n",
       "    <tr>\n",
       "      <th>0</th>\n",
       "      <td>chr13</td>\n",
       "      <td>99062606</td>\n",
       "      <td>99062607</td>\n",
       "      <td>peak_13294107</td>\n",
       "      <td>-0.890</td>\n",
       "      <td>ENSG00000280047</td>\n",
       "      <td>minus</td>\n",
       "    </tr>\n",
       "    <tr>\n",
       "      <th>1</th>\n",
       "      <td>chr13</td>\n",
       "      <td>99062612</td>\n",
       "      <td>99062613</td>\n",
       "      <td>peak_13294109</td>\n",
       "      <td>-0.856</td>\n",
       "      <td>ENSG00000280047</td>\n",
       "      <td>minus</td>\n",
       "    </tr>\n",
       "    <tr>\n",
       "      <th>2</th>\n",
       "      <td>chr2</td>\n",
       "      <td>32758365</td>\n",
       "      <td>32758366</td>\n",
       "      <td>peak_25313521</td>\n",
       "      <td>-0.869</td>\n",
       "      <td>ENSG00000280047</td>\n",
       "      <td>minus</td>\n",
       "    </tr>\n",
       "  </tbody>\n",
       "</table>\n",
       "</div>"
      ],
      "text/plain": [
       "   chrom     start       end           name   corr          lnc_ens corr_sign\n",
       "0  chr13  99062606  99062607  peak_13294107 -0.890  ENSG00000280047     minus\n",
       "1  chr13  99062612  99062613  peak_13294109 -0.856  ENSG00000280047     minus\n",
       "2   chr2  32758365  32758366  peak_25313521 -0.869  ENSG00000280047     minus"
      ]
     },
     "execution_count": 8,
     "metadata": {},
     "output_type": "execute_result"
    }
   ],
   "source": [
    "ENSG00000280047 = pd.concat([pd.read_csv(to_df, sep=\"\\t\").loc[1:] for to_df in METHYL_INDEX.glob(\"*ENSG00000280047*minus*\")]).reset_index(drop=True)\n",
    "ENSG00000280047"
   ]
  },
  {
   "cell_type": "code",
   "execution_count": 10,
   "id": "4a04af11-8f6c-4f41-be40-a1fda99bfb4d",
   "metadata": {},
   "outputs": [
    {
     "name": "stdout",
     "output_type": "stream",
     "text": [
      "lncRNA_Peaks_Correlations_corrected_non_zero_0.hdf5\n",
      "lncRNA_Peaks_Correlations_corrected_non_zero_10.hdf5\n",
      "lncRNA_Peaks_Correlations_corrected_non_zero_11.hdf5\n",
      "lncRNA_Peaks_Correlations_corrected_non_zero_12.hdf5\n",
      "lncRNA_Peaks_Correlations_corrected_non_zero_13.hdf5\n",
      "lncRNA_Peaks_Correlations_corrected_non_zero_14.hdf5\n",
      "lncRNA_Peaks_Correlations_corrected_non_zero_15.hdf5\n",
      "lncRNA_Peaks_Correlations_corrected_non_zero_16.hdf5\n",
      "lncRNA_Peaks_Correlations_corrected_non_zero_17.hdf5\n",
      "lncRNA_Peaks_Correlations_corrected_non_zero_18.hdf5\n",
      "lncRNA_Peaks_Correlations_corrected_non_zero_1.hdf5\n",
      "lncRNA_Peaks_Correlations_corrected_non_zero_2.hdf5\n",
      "lncRNA_Peaks_Correlations_corrected_non_zero_3.hdf5\n",
      "lncRNA_Peaks_Correlations_corrected_non_zero_4.hdf5\n",
      "lncRNA_Peaks_Correlations_corrected_non_zero_5.hdf5\n",
      "lncRNA_Peaks_Correlations_corrected_non_zero_6.hdf5\n",
      "lncRNA_Peaks_Correlations_corrected_non_zero_7.hdf5\n",
      "lncRNA_Peaks_Correlations_corrected_non_zero_8.hdf5\n",
      "lncRNA_Peaks_Correlations_corrected_non_zero_9.hdf5\n"
     ]
    }
   ],
   "source": [
    "!ls /data/mazurovev/all_marks/methylation/lncRNA_Peaks_corrs"
   ]
  },
  {
   "cell_type": "code",
   "execution_count": 11,
   "id": "7ef7a050-0946-4945-b93f-b9472ec2a73e",
   "metadata": {},
   "outputs": [
    {
     "name": "stdout",
     "output_type": "stream",
     "text": [
      "lncRNA_Peaks_Correlations_corrected_non_zero_0.tsv.gz\n",
      "lncRNA_Peaks_Correlations_corrected_non_zero_10.tsv.gz\n",
      "lncRNA_Peaks_Correlations_corrected_non_zero_11.tsv.gz\n",
      "lncRNA_Peaks_Correlations_corrected_non_zero_12.tsv.gz\n",
      "lncRNA_Peaks_Correlations_corrected_non_zero_13.tsv.gz\n",
      "lncRNA_Peaks_Correlations_corrected_non_zero_14.tsv.gz\n",
      "lncRNA_Peaks_Correlations_corrected_non_zero_15.tsv.gz\n",
      "lncRNA_Peaks_Correlations_corrected_non_zero_16.tsv.gz\n",
      "lncRNA_Peaks_Correlations_corrected_non_zero_17.tsv.gz\n",
      "lncRNA_Peaks_Correlations_corrected_non_zero_18.tsv.gz\n",
      "lncRNA_Peaks_Correlations_corrected_non_zero_1.tsv.gz\n",
      "lncRNA_Peaks_Correlations_corrected_non_zero_2.tsv.gz\n",
      "lncRNA_Peaks_Correlations_corrected_non_zero_3.tsv.gz\n",
      "lncRNA_Peaks_Correlations_corrected_non_zero_4.tsv.gz\n",
      "lncRNA_Peaks_Correlations_corrected_non_zero_5.tsv.gz\n",
      "lncRNA_Peaks_Correlations_corrected_non_zero_6.tsv.gz\n",
      "lncRNA_Peaks_Correlations_corrected_non_zero_7.tsv.gz\n",
      "lncRNA_Peaks_Correlations_corrected_non_zero_8.tsv.gz\n",
      "lncRNA_Peaks_Correlations_corrected_non_zero_9.tsv.gz\n"
     ]
    }
   ],
   "source": [
    "!ls {METHYL}"
   ]
  },
  {
   "cell_type": "code",
   "execution_count": null,
   "id": "b985eb2d-3312-41de-a347-1d8a1d6d2c42",
   "metadata": {},
   "outputs": [],
   "source": [
    "corr_df = pd.concat([pd.read_csv(to_df, sep=\"\\t\") for to_df in METHYL.glob(\"*.tsv.gz\")])\n",
    "corr_df.sort_values(by=[\"lnc_ens\", \"0\", \"1\"], inplace=True)\n",
    "corr_df.shape"
   ]
  },
  {
   "cell_type": "code",
   "execution_count": null,
   "id": "6ea22f48-53ad-4907-9c72-f43e2c7585ff",
   "metadata": {},
   "outputs": [],
   "source": []
  },
  {
   "cell_type": "code",
   "execution_count": null,
   "id": "e9eda311-3beb-4542-a6ff-8e9df87c96ab",
   "metadata": {},
   "outputs": [],
   "source": []
  },
  {
   "cell_type": "code",
   "execution_count": null,
   "id": "b18f2155-90a5-499b-bda7-a7908a97ad6c",
   "metadata": {},
   "outputs": [],
   "source": []
  },
  {
   "cell_type": "code",
   "execution_count": null,
   "id": "5c7fe7b9-f02a-46f3-804a-48a2d0c05590",
   "metadata": {},
   "outputs": [],
   "source": []
  },
  {
   "cell_type": "code",
   "execution_count": null,
   "id": "0ad6ed41-967e-4ff8-9452-92e98d506fe1",
   "metadata": {},
   "outputs": [],
   "source": []
  },
  {
   "cell_type": "code",
   "execution_count": null,
   "id": "6fd9ec86-a6fc-4d1c-8ffc-5d7a50513ac7",
   "metadata": {},
   "outputs": [],
   "source": []
  },
  {
   "cell_type": "code",
   "execution_count": null,
   "id": "6d953a01-f765-468d-bd9c-c4c02216857e",
   "metadata": {},
   "outputs": [],
   "source": []
  },
  {
   "cell_type": "code",
   "execution_count": null,
   "id": "e530750d-d052-4766-a5cc-f453a45bae48",
   "metadata": {},
   "outputs": [],
   "source": []
  }
 ],
 "metadata": {
  "kernelspec": {
   "display_name": "Python 3 (ipykernel)",
   "language": "python",
   "name": "python3"
  },
  "language_info": {
   "codemirror_mode": {
    "name": "ipython",
    "version": 3
   },
   "file_extension": ".py",
   "mimetype": "text/x-python",
   "name": "python",
   "nbconvert_exporter": "python",
   "pygments_lexer": "ipython3",
   "version": "3.9.18"
  }
 },
 "nbformat": 4,
 "nbformat_minor": 5
}
