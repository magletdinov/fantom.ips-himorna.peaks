{
 "cells": [
  {
   "cell_type": "code",
   "execution_count": 1,
   "id": "77299434-ab6e-47dc-8707-b81d9da4d016",
   "metadata": {},
   "outputs": [],
   "source": [
    "from pathlib import Path\n",
    "import pandas as pd\n",
    "import numpy as np\n",
    "from joblib import Parallel, delayed\n",
    "import pickle\n",
    "from scipy.stats import fisher_exact\n",
    "from statsmodels.stats.multitest import multipletests\n",
    "from Bio import Entrez\n",
    "from collections import defaultdict\n",
    "import matplotlib.pyplot as plt\n",
    "import seaborn as sns"
   ]
  },
  {
   "cell_type": "code",
   "execution_count": 2,
   "id": "0ef0306a-b049-4509-856a-9510dcc116b5",
   "metadata": {},
   "outputs": [],
   "source": [
    "PWD = Path().cwd()\n",
    "DATA = Path(\"../data\")\n",
    "IPS = DATA / \"rnaseq_res_ips\"\n",
    "FIBRO = DATA / \"rnaseq_res_fibro\"\n",
    "HIMORNA = DATA / \"himorna_peaks\"\n",
    "FANTOM = DATA / \"fantom_cat\"\n",
    "PREPROCESSING = Path(\"../preprocessing\")\n",
    "HIMORNA_INDEX = PREPROCESSING / \"himorna_index\"\n",
    "HIMORNA_GENES_SIGN =  PREPROCESSING / \"himorna_genes_sign\"\n",
    "IPS_INDEX = PREPROCESSING / \"ips_deg_index\"\n",
    "FIBRO_INDEX = PREPROCESSING / \"fibro_deg_index\"\n",
    "IPS_MATRICES = PREPROCESSING / \"ips_matrices\"\n",
    "FIBRO_MATRICES = PREPROCESSING / \"fibro_matrices\"\n",
    "IPS_FISHER = PREPROCESSING / \"ips_fisher_exact_test\"\n",
    "FIBRO_FISHER = PREPROCESSING / \"fibro_fisher_exact_test\"\n",
    "METHYL_BED = PREPROCESSING / \"methyl_bed\"\n",
    "\n",
    "IMAGES = PREPROCESSING / \"images\""
   ]
  },
  {
   "cell_type": "code",
   "execution_count": 3,
   "id": "a344fd4e-2637-475a-9d2e-d59cbe9aa733",
   "metadata": {},
   "outputs": [],
   "source": [
    "F6_CAT = pd.read_csv(FANTOM / \"F6_CAT.gene.info.tsv\", sep=\"\\t\")"
   ]
  },
  {
   "cell_type": "code",
   "execution_count": 4,
   "id": "c245e45f-0243-47a9-9ca7-4d2e8c7780f6",
   "metadata": {},
   "outputs": [],
   "source": [
    "to_peaks = HIMORNA / \"Himorna_all.tsv.gz\"\n",
    "himorna_peaks = pd.read_csv(\n",
    "        to_peaks,\n",
    "        chunksize=100000000,\n",
    "        sep=\"\\t\",\n",
    "        usecols=[\"hm\", \"lnc\", \"lnc_ens\", \"peak\", \"chrom\", \"start\", \"end\", \"gene\", \"gene_ens\", \"corr\"]\n",
    "    )\n",
    "himorna_peaks = pd.concat(himorna_peaks)\n",
    "#to_save =  HIMORNA / \"Himorna_all.tsv.gz\"\n",
    "#himorna_peaks_all.to_csv(to_save, sep=\"\\t\", compression=\"gzip\", index=False)  "
   ]
  },
  {
   "cell_type": "code",
   "execution_count": null,
   "id": "29fdb50d-7b0e-450d-a8ca-204fc46fb7fd",
   "metadata": {},
   "outputs": [],
   "source": []
  }
 ],
 "metadata": {
  "kernelspec": {
   "display_name": "Python 3 (ipykernel)",
   "language": "python",
   "name": "python3"
  },
  "language_info": {
   "codemirror_mode": {
    "name": "ipython",
    "version": 3
   },
   "file_extension": ".py",
   "mimetype": "text/x-python",
   "name": "python",
   "nbconvert_exporter": "python",
   "pygments_lexer": "ipython3",
   "version": "3.12.3"
  }
 },
 "nbformat": 4,
 "nbformat_minor": 5
}
