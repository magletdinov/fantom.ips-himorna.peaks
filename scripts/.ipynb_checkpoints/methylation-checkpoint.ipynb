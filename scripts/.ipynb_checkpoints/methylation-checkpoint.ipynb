{
 "cells": [
  {
   "cell_type": "code",
   "execution_count": 1,
   "id": "ff747c7a-1920-4014-98fd-904638b3e4fb",
   "metadata": {},
   "outputs": [],
   "source": [
    "from pathlib import Path\n",
    "import h5py\n",
    "import pandas as pd\n",
    "import numpy as np"
   ]
  },
  {
   "cell_type": "code",
   "execution_count": 3,
   "id": "a5469a81-3a97-4acd-8b54-500d3a62a34b",
   "metadata": {},
   "outputs": [
    {
     "name": "stdout",
     "output_type": "stream",
     "text": [
      "Keys: <KeysViewHDF5 ['corrs_matrix', 'lncRNAs_names']>\n"
     ]
    }
   ],
   "source": [
    "# Предполагая, что MAZUR уже определен как путь к папке\n",
    "file_path = MAZUR / \"lncRNA_Peaks_Correlations_corrected_non_zero_0.hdf5\"\n",
    "\n",
    "# Открываем файл в режиме чтения\n",
    "with h5py.File(file_path, 'r') as f:\n",
    "    # Просмотрим ключи верхнего уровня\n",
    "    print(\"Keys: %s\" % f.keys())"
   ]
  },
  {
   "cell_type": "code",
   "execution_count": 24,
   "id": "38982d8b-fa3d-4474-8486-280fc8d839db",
   "metadata": {},
   "outputs": [
    {
     "data": {
      "text/plain": [
       "0"
      ]
     },
     "execution_count": 24,
     "metadata": {},
     "output_type": "execute_result"
    }
   ],
   "source": [
    "lncRNA = b\"ENSG00000099869\"\n",
    "lncRNAs.index(lncRNA)"
   ]
  },
  {
   "cell_type": "code",
   "execution_count": 6,
   "id": "5687b317-b8d5-471a-9d7d-4d54ddce0028",
   "metadata": {},
   "outputs": [
    {
     "data": {
      "text/plain": [
       "95"
      ]
     },
     "execution_count": 6,
     "metadata": {},
     "output_type": "execute_result"
    }
   ],
   "source": [
    "len(corrs)"
   ]
  },
  {
   "cell_type": "code",
   "execution_count": null,
   "id": "e4bf28f2-f72f-421b-ba46-890ac48f187f",
   "metadata": {},
   "outputs": [],
   "source": [
    "with h5py.File(MAZUR / \"lncRNA_Peaks_Correlations_corrected_non_zero_0.hdf5\", 'r') as f:\n",
    "    res = f"
   ]
  },
  {
   "cell_type": "code",
   "execution_count": null,
   "id": "4d5fbd75-3fa4-4cbb-9e9f-d465c3f4bf40",
   "metadata": {},
   "outputs": [],
   "source": [
    "corrs"
   ]
  },
  {
   "cell_type": "code",
   "execution_count": 13,
   "id": "55ce05f4-4b65-40a3-8f53-15c9f6a4ffeb",
   "metadata": {},
   "outputs": [
    {
     "data": {
      "text/plain": [
       "h5py._hl.files.File"
      ]
     },
     "execution_count": 13,
     "metadata": {},
     "output_type": "execute_result"
    }
   ],
   "source": [
    "type(test)"
   ]
  },
  {
   "cell_type": "code",
   "execution_count": 16,
   "id": "39aed437-7065-4748-ad02-1f34e7c49a2c",
   "metadata": {},
   "outputs": [
    {
     "data": {
      "text/plain": [
       "<Closed HDF5 file>"
      ]
     },
     "execution_count": 16,
     "metadata": {},
     "output_type": "execute_result"
    }
   ],
   "source": [
    "test"
   ]
  },
  {
   "cell_type": "code",
   "execution_count": 8,
   "id": "bb7f6e1c-0a9d-4542-9adb-672c00133c6b",
   "metadata": {},
   "outputs": [],
   "source": [
    "def get_correlated_peaks(lncRNA, hm, output_bed=None):\n",
    "    with h5py.File(Path(\"/data/mazurovev/all_marks\") / hm / \"lncRNA_Peaks_corrs/lncRNA_Peaks_Correlations_corrected_non_zero_0.hdf5\", 'r') as f:\n",
    "        lncRNAs = list(f['lncRNAs_names'][:])\n",
    "        ind = lncRNAs.index(lncRNA)\n",
    "        corrs = f['corrs_matrix'][ind, :]\n",
    "    \n",
    "    nonzero_corrs = corrs[np.nonzero(corrs)[0]]\n",
    "    nonzero_peaks = [\"peak_\" + str(i) for i in np.nonzero(corrs)[0]]\n",
    "    \n",
    "    peaks = pd.read_csv(Path(\"/data/mazurovev/all_marks\") / hm / \"merged_peaks_first_in_biosample.bed\", sep=\"\\t\", header=None)\n",
    "    res = peaks[peaks[3].isin(nonzero_peaks)]\n",
    "    if output_bed:\n",
    "        res.to_csv(output_bed, sep=\"\\t\", index=None)\n",
    "    else:\n",
    "        return res"
   ]
  },
  {
   "cell_type": "code",
   "execution_count": 9,
   "id": "46901641-a1c2-4bf2-9d13-dbf361b34ae9",
   "metadata": {},
   "outputs": [
    {
     "ename": "ValueError",
     "evalue": "\"b'ENSG00000099869\" is not in list",
     "output_type": "error",
     "traceback": [
      "\u001b[0;31m---------------------------------------------------------------------------\u001b[0m",
      "\u001b[0;31mValueError\u001b[0m                                Traceback (most recent call last)",
      "Cell \u001b[0;32mIn[9], line 1\u001b[0m\n\u001b[0;32m----> 1\u001b[0m df \u001b[38;5;241m=\u001b[39m \u001b[43mget_correlated_peaks\u001b[49m\u001b[43m(\u001b[49m\u001b[38;5;124;43m\"\u001b[39;49m\u001b[38;5;124;43mb\u001b[39;49m\u001b[38;5;124;43m'\u001b[39;49m\u001b[38;5;124;43mENSG00000099869\u001b[39;49m\u001b[38;5;124;43m\"\u001b[39;49m\u001b[43m,\u001b[49m\u001b[43m \u001b[49m\u001b[38;5;124;43m\"\u001b[39;49m\u001b[38;5;124;43mmethylation\u001b[39;49m\u001b[38;5;124;43m\"\u001b[39;49m\u001b[43m)\u001b[49m\n",
      "Cell \u001b[0;32mIn[8], line 4\u001b[0m, in \u001b[0;36mget_correlated_peaks\u001b[0;34m(lncRNA, hm, output_bed)\u001b[0m\n\u001b[1;32m      2\u001b[0m \u001b[38;5;28;01mwith\u001b[39;00m h5py\u001b[38;5;241m.\u001b[39mFile(Path(\u001b[38;5;124m\"\u001b[39m\u001b[38;5;124m/data/mazurovev/all_marks\u001b[39m\u001b[38;5;124m\"\u001b[39m) \u001b[38;5;241m/\u001b[39m hm \u001b[38;5;241m/\u001b[39m \u001b[38;5;124m\"\u001b[39m\u001b[38;5;124mlncRNA_Peaks_corrs/lncRNA_Peaks_Correlations_corrected_non_zero_0.hdf5\u001b[39m\u001b[38;5;124m\"\u001b[39m, \u001b[38;5;124m'\u001b[39m\u001b[38;5;124mr\u001b[39m\u001b[38;5;124m'\u001b[39m) \u001b[38;5;28;01mas\u001b[39;00m f:\n\u001b[1;32m      3\u001b[0m     lncRNAs \u001b[38;5;241m=\u001b[39m \u001b[38;5;28mlist\u001b[39m(f[\u001b[38;5;124m'\u001b[39m\u001b[38;5;124mlncRNAs_names\u001b[39m\u001b[38;5;124m'\u001b[39m][:])\n\u001b[0;32m----> 4\u001b[0m     ind \u001b[38;5;241m=\u001b[39m \u001b[43mlncRNAs\u001b[49m\u001b[38;5;241;43m.\u001b[39;49m\u001b[43mindex\u001b[49m\u001b[43m(\u001b[49m\u001b[43mlncRNA\u001b[49m\u001b[43m)\u001b[49m\n\u001b[1;32m      5\u001b[0m     corrs \u001b[38;5;241m=\u001b[39m f[\u001b[38;5;124m'\u001b[39m\u001b[38;5;124mcorrs_matrix\u001b[39m\u001b[38;5;124m'\u001b[39m][ind, :]\n\u001b[1;32m      7\u001b[0m nonzero_corrs \u001b[38;5;241m=\u001b[39m corrs[np\u001b[38;5;241m.\u001b[39mnonzero(corrs)[\u001b[38;5;241m0\u001b[39m]]\n",
      "\u001b[0;31mValueError\u001b[0m: \"b'ENSG00000099869\" is not in list"
     ]
    }
   ],
   "source": [
    "df = get_correlated_peaks(\"b'ENSG00000099869\", \"methylation\")"
   ]
  },
  {
   "cell_type": "code",
   "execution_count": 11,
   "id": "6fe99813-4a2a-459c-be49-f7ca9142a4f5",
   "metadata": {},
   "outputs": [],
   "source": [
    "MAZUR = Path(\"/data/mazurovev/all_marks/methylation/lncRNA_Peaks_corrs\").resolve()"
   ]
  },
  {
   "cell_type": "code",
   "execution_count": 12,
   "id": "b98d0cd6-40ce-4263-8c65-4837aa8f1278",
   "metadata": {},
   "outputs": [],
   "source": [
    "with h5py.File(MAZUR / \"lncRNA_Peaks_Correlations_corrected_non_zero_0.hdf5\", 'r') as f:\n",
    "    lncRNAs = list(f['lncRNAs_names'][:])\n",
    "    corrs = f['corrs_matrix'][:]"
   ]
  },
  {
   "cell_type": "code",
   "execution_count": 13,
   "id": "f6d7faaa-4630-488c-9530-c66ca3df2296",
   "metadata": {},
   "outputs": [
    {
     "data": {
      "text/plain": [
       "95"
      ]
     },
     "execution_count": 13,
     "metadata": {},
     "output_type": "execute_result"
    }
   ],
   "source": [
    "len(lncRNAs)"
   ]
  },
  {
   "cell_type": "code",
   "execution_count": 15,
   "id": "62e56016-04b3-4998-aff7-1a994f63a072",
   "metadata": {},
   "outputs": [
    {
     "data": {
      "text/plain": [
       "0"
      ]
     },
     "execution_count": 15,
     "metadata": {},
     "output_type": "execute_result"
    }
   ],
   "source": [
    "lncRNAs.index(b\"ENSG00000099869\")"
   ]
  },
  {
   "cell_type": "code",
   "execution_count": 25,
   "id": "8ac9e333-f5e8-4918-8297-eec4efad0021",
   "metadata": {},
   "outputs": [
    {
     "name": "stderr",
     "output_type": "stream",
     "text": [
      "/tmp/ipykernel_11153/3004858754.py:20: SettingWithCopyWarning: \n",
      "A value is trying to be set on a copy of a slice from a DataFrame.\n",
      "Try using .loc[row_indexer,col_indexer] = value instead\n",
      "\n",
      "See the caveats in the documentation: https://pandas.pydata.org/pandas-docs/stable/user_guide/indexing.html#returning-a-view-versus-a-copy\n",
      "  res[\"corr\"] = nonzero_corrs\n"
     ]
    }
   ],
   "source": [
    "def get_correlated_peaks(lncRNA, hm, output_bed=None):\n",
    "    # Убедиться, что lncRNA в байтовом формате\n",
    "    if isinstance(lncRNA, str):\n",
    "        lncRNA = lncRNA.encode()\n",
    "    \n",
    "    with h5py.File(Path(\"/data/mazurovev/all_marks\") / hm / \"lncRNA_Peaks_corrs/lncRNA_Peaks_Correlations_corrected_non_zero_0.hdf5\", 'r') as f:\n",
    "        lncRNAs = list(f['lncRNAs_names'][:])\n",
    "        try:\n",
    "            ind = lncRNAs.index(lncRNA)\n",
    "        except ValueError:\n",
    "            raise ValueError(f\"{lncRNA} is not in the list of lncRNA names.\")\n",
    "        \n",
    "        corrs = f['corrs_matrix'][ind, :]\n",
    "    \n",
    "    nonzero_corrs = corrs[np.nonzero(corrs)[0]]\n",
    "    nonzero_peaks = [\"peak_\" + str(i) for i in np.nonzero(corrs)[0]]\n",
    "    \n",
    "    peaks = pd.read_csv(Path(\"/data/mazurovev/all_marks\") / hm / \"merged_peaks_first_in_biosample.bed\", sep=\"\\t\", header=None)\n",
    "    res = peaks[peaks[3].isin(nonzero_peaks)]\n",
    "    res[\"corr\"] = nonzero_corrs\n",
    "    if output_bed:\n",
    "        res.to_csv(output_bed, sep=\"\\t\", index=None)\n",
    "    else:\n",
    "        return res\n",
    "\n",
    "# Исправленный вызов функции\n",
    "df = get_correlated_peaks(b\"ENSG00000099869\", \"methylation\")"
   ]
  },
  {
   "cell_type": "code",
   "execution_count": 26,
   "id": "53e5c8af-d02a-463a-86d0-6fc5547cc41b",
   "metadata": {},
   "outputs": [
    {
     "data": {
      "text/plain": [
       "(2, 5)"
      ]
     },
     "execution_count": 26,
     "metadata": {},
     "output_type": "execute_result"
    }
   ],
   "source": [
    "df.shape"
   ]
  },
  {
   "cell_type": "code",
   "execution_count": 27,
   "id": "67204952-1b2e-4f0f-ad1b-dc3c0a9b6154",
   "metadata": {},
   "outputs": [
    {
     "data": {
      "text/html": [
       "<div>\n",
       "<style scoped>\n",
       "    .dataframe tbody tr th:only-of-type {\n",
       "        vertical-align: middle;\n",
       "    }\n",
       "\n",
       "    .dataframe tbody tr th {\n",
       "        vertical-align: top;\n",
       "    }\n",
       "\n",
       "    .dataframe thead th {\n",
       "        text-align: right;\n",
       "    }\n",
       "</style>\n",
       "<table border=\"1\" class=\"dataframe\">\n",
       "  <thead>\n",
       "    <tr style=\"text-align: right;\">\n",
       "      <th></th>\n",
       "      <th>0</th>\n",
       "      <th>1</th>\n",
       "      <th>2</th>\n",
       "      <th>3</th>\n",
       "      <th>corr</th>\n",
       "    </tr>\n",
       "  </thead>\n",
       "  <tbody>\n",
       "    <tr>\n",
       "      <th>10386212</th>\n",
       "      <td>chr12</td>\n",
       "      <td>49123587</td>\n",
       "      <td>49123588</td>\n",
       "      <td>peak_10386212</td>\n",
       "      <td>-0.887848</td>\n",
       "    </tr>\n",
       "    <tr>\n",
       "      <th>49210615</th>\n",
       "      <td>chr8</td>\n",
       "      <td>142304068</td>\n",
       "      <td>142304069</td>\n",
       "      <td>peak_49210615</td>\n",
       "      <td>0.911249</td>\n",
       "    </tr>\n",
       "  </tbody>\n",
       "</table>\n",
       "</div>"
      ],
      "text/plain": [
       "              0          1          2              3      corr\n",
       "10386212  chr12   49123587   49123588  peak_10386212 -0.887848\n",
       "49210615   chr8  142304068  142304069  peak_49210615  0.911249"
      ]
     },
     "execution_count": 27,
     "metadata": {},
     "output_type": "execute_result"
    }
   ],
   "source": [
    "df"
   ]
  },
  {
   "cell_type": "code",
   "execution_count": 1,
   "id": "0ffe912d-b664-4b95-8c67-0b31782db2fb",
   "metadata": {},
   "outputs": [],
   "source": [
    "import h5py\n",
    "import numpy as np\n",
    "import pandas as pd\n",
    "from pathlib import Path\n",
    "PWD = Path().cwd()\n",
    "MAZUR = Path(\"/data/mazurovev/all_marks/methylation/lncRNA_Peaks_corrs\").resolve()\n",
    "DATA = Path(\"../data\")\n",
    "METHYL = DATA / \"methylation_peaks\"\n",
    "def get_all_correlated_peaks(hm, to_hdf5, to_save):\n",
    "    if to_save.exists():\n",
    "        print(f\"Skipped: {to_hdf5.stem}\")\n",
    "        return None\n",
    "    all_results = []\n",
    "\n",
    "    # Открываем HDF5 файл\n",
    "    with h5py.File(to_hdf5, 'r') as f:\n",
    "        lncRNAs = list(f['lncRNAs_names'][:])\n",
    "        corrs_matrix = f['corrs_matrix'][:]\n",
    "\n",
    "    # Читаем пики\n",
    "    peaks = pd.read_csv(Path(\"/data/mazurovev/all_marks\") / hm / \"merged_peaks_first_in_biosample.bed\", sep=\"\\t\", header=None)\n",
    "\n",
    "    for i, lncRNA in enumerate(lncRNAs):\n",
    "        corrs = corrs_matrix[i, :]\n",
    "        nonzero_indices = np.nonzero(corrs)[0]\n",
    "        nonzero_corrs = corrs[nonzero_indices]\n",
    "        nonzero_peaks = [\"peak_\" + str(j) for j in nonzero_indices]\n",
    "\n",
    "        # Извлекаем соответствующие пики\n",
    "        res = peaks[peaks[3].isin(nonzero_peaks)].copy()\n",
    "        res[\"corr\"] = nonzero_corrs\n",
    "        res[\"lnc_ens\"] = lncRNA.decode('utf-8')  # Декодируем байтовую строку в строку\n",
    "\n",
    "        all_results.append(res)\n",
    "\n",
    "    # Объединяем все результаты в один DataFrame\n",
    "    final_result = pd.concat(all_results, ignore_index=True)\n",
    "    \n",
    "    final_result.to_csv(to_save, sep=\"\\t\", compression=\"gzip\", index=False)"
   ]
  },
  {
   "cell_type": "code",
   "execution_count": 30,
   "id": "6d92c321-1a75-4858-8a87-eb65f5991e92",
   "metadata": {},
   "outputs": [],
   "source": [
    "df.to_csv(to_save, sep=\"\\t\", compression=\"gzip\", index=False)"
   ]
  },
  {
   "cell_type": "code",
   "execution_count": null,
   "id": "3a2f6d8a-4094-4ba1-8407-43aa8ce5f2e1",
   "metadata": {},
   "outputs": [
    {
     "name": "stdout",
     "output_type": "stream",
     "text": [
      "lncRNA_Peaks_Correlations_corrected_non_zero_4\n",
      "lncRNA_Peaks_Correlations_corrected_non_zero_5\n"
     ]
    }
   ],
   "source": [
    "for to_hdf5 in MAZUR.glob(\"*.hdf5\"):\n",
    "    print(to_hdf5.stem)\n",
    "    to_save = METHYL / f\"{to_hdf5.stem}.tsv.gz\"\n",
    "    get_all_correlated_peaks(hm=\"methylation\", to_hdf5=to_hdf5, to_save=to_save)"
   ]
  },
  {
   "cell_type": "markdown",
   "id": "ca5ec271-ae3c-469b-a96f-0935c05a3144",
   "metadata": {},
   "source": [
    "with Parallel(n_jobs=-1) as pool:\n",
    "    chunks = pool(\n",
    "        delayed(indexing_himorna)(hm, lnc_ens, corr_sign, subdf)\n",
    "        for to_hdf5 in MAZUR.glob(\"*.hdf5\"))\n",
    "    )"
   ]
  },
  {
   "cell_type": "code",
   "execution_count": null,
   "id": "c208c962-2704-44d7-b434-a092a45aa9db",
   "metadata": {},
   "outputs": [],
   "source": [
    "corr_df = pd.concat([pd.read_csv(to_df, sep=\"\\t\") for to_df in METHYL.glob(\"*.tsv.gz\")])\n",
    "corr_df.sort_values(by=[\"lnc_ens\", \"0\", \"1\"], inplace=True)\n",
    "corr_df.shape"
   ]
  },
  {
   "cell_type": "code",
   "execution_count": null,
   "id": "c2f4163e-cae8-4cd4-b1ba-c0385deaf6f6",
   "metadata": {},
   "outputs": [],
   "source": [
    "to_save = METHYL / f\"methylation_peaks_with_nonzero_corr.tsv.gz\"\n",
    "corr_df.to_csv(to_save, sep=\"\\t\", compression=\"gzip\", index=False)"
   ]
  },
  {
   "cell_type": "code",
   "execution_count": null,
   "id": "8587852c-d2a7-4f0a-a7fa-7ec026ba6e5a",
   "metadata": {},
   "outputs": [],
   "source": []
  },
  {
   "cell_type": "code",
   "execution_count": null,
   "id": "fe5cafcf-25a2-45cd-8c24-1eb4c41388ba",
   "metadata": {},
   "outputs": [],
   "source": []
  },
  {
   "cell_type": "code",
   "execution_count": 2,
   "id": "d36d8802-345d-482d-b261-ec511f020b65",
   "metadata": {},
   "outputs": [
    {
     "data": {
      "text/plain": [
       "8"
      ]
     },
     "execution_count": 2,
     "metadata": {},
     "output_type": "execute_result"
    }
   ],
   "source": [
    "8"
   ]
  },
  {
   "cell_type": "code",
   "execution_count": 18,
   "id": "0de85408-822f-4aed-9cbe-cb3054fb2fa9",
   "metadata": {},
   "outputs": [
    {
     "name": "stderr",
     "output_type": "stream",
     "text": [
      "Exception ignored in: <generator object _WildcardSelector._select_from at 0x7febf2350c80>\n",
      "Traceback (most recent call last):\n",
      "  File \"/home/magletdinov/mambaforge/envs/work/lib/python3.9/pathlib.py\", line 576, in _select_from\n",
      "KeyboardInterrupt: \n",
      "\n",
      "KeyboardInterrupt\n",
      "\n"
     ]
    }
   ],
   "source": [
    "PREPROCESSING = Path(\"../preprocessing\")\n",
    "METHYL_INDEX = PREPROCESSING / \"methyl_index\"\n",
    "def indexing_methyl(chunk, lnc_ens, corr_sign, subdf):\n",
    "    to_index = METHYL_INDEX / chunk\n",
    "    to_index.mkdir(exist_ok=True, parents=True)\n",
    "    to_save = to_index / f\"methyl-{lnc_ens}-{corr_sign}-.tsv.gz\"\n",
    "    if to_save.exists():\n",
    "        print(f\"Skipped: methyl {lnc_ens} {corr_sign}\")\n",
    "        return None\n",
    "    subdf.to_csv(to_save, sep=\"\\t\", compression=\"gzip\", index=False)\n",
    "    \n",
    "for to_df in METHYL.glob(\"*.tsv.gz\"):\n",
    "    chunk = to_df.stem.split(\"_\")[6]\n",
    "    df = pd.read_csv(to_df, sep=\"\\t\")\n",
    "    df.rename(columns={\"0\":\"chrom\", \"1\":\"start\", \"2\":\"end\", \"3\":\"name\"}, inplace=True)\n",
    "    df[\"corr\"] = df[\"corr\"].apply(lambda x: np.round(x, 3))\n",
    "    df[\"corr_sign\"] = np.where(df[\"corr\"] > 0, \"plus\", \"minus\")\n",
    "    for (lnc_ens, corr_sign), subdf in df.groupby(by=[\"lnc_ens\", \"corr_sign\"]):\n",
    "        indexing_methyl(chunk=chunk, lnc_ens=lnc_ens, corr_sign=corr_sign, subdf=subdf)"
   ]
  },
  {
   "cell_type": "code",
   "execution_count": 16,
   "id": "d5afd4e1-5634-4743-87f2-5a6676d02c67",
   "metadata": {},
   "outputs": [],
   "source": [
    "df[\"corr_sign\"] = np.where(df[\"corr\"] > 0, \"plus\", \"minus\")"
   ]
  },
  {
   "cell_type": "code",
   "execution_count": 17,
   "id": "78b44f64-55eb-4271-b317-6ca6e093fa6b",
   "metadata": {},
   "outputs": [
    {
     "name": "stdout",
     "output_type": "stream",
     "text": [
      "ENSG00000099869\n"
     ]
    }
   ],
   "source": [
    "for (lnc_ens, corr_sign), subdf in df.groupby(by=[\"lnc_ens\", \"corr_sign\"]):\n",
    "    print(lnc_ens)\n",
    "    break"
   ]
  },
  {
   "cell_type": "code",
   "execution_count": null,
   "id": "71516d67-cab7-4836-a811-785dc2e52b3e",
   "metadata": {},
   "outputs": [],
   "source": []
  }
 ],
 "metadata": {
  "kernelspec": {
   "display_name": "Python 3 (ipykernel)",
   "language": "python",
   "name": "python3"
  },
  "language_info": {
   "codemirror_mode": {
    "name": "ipython",
    "version": 3
   },
   "file_extension": ".py",
   "mimetype": "text/x-python",
   "name": "python",
   "nbconvert_exporter": "python",
   "pygments_lexer": "ipython3",
   "version": "3.9.18"
  }
 },
 "nbformat": 4,
 "nbformat_minor": 5
}
