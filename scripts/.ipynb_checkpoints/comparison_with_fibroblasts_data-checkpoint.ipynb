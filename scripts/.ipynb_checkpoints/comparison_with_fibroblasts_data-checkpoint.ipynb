{
 "cells": [
  {
   "cell_type": "code",
   "execution_count": 1,
   "id": "941477b8-6a69-45f6-aa59-a7e35a0dcf38",
   "metadata": {},
   "outputs": [],
   "source": [
    "from pathlib import Path\n",
    "import pandas as pd\n",
    "import numpy as np\n",
    "from scipy.stats import mannwhitneyu\n",
    "from joblib import Parallel, delayed\n",
    "import pickle\n",
    "from scipy.stats import fisher_exact\n",
    "from statsmodels.stats.multitest import multipletests\n",
    "from Bio import Entrez\n",
    "from collections import defaultdict\n",
    "from itertools import combinations\n",
    "import matplotlib.pyplot as plt\n",
    "import seaborn as sns"
   ]
  },
  {
   "cell_type": "code",
   "execution_count": 2,
   "id": "fcf2052e-37f8-4e93-b42a-982366b8f2d7",
   "metadata": {},
   "outputs": [],
   "source": [
    "PWD = Path().cwd()\n",
    "DATA = Path(\"../data\")\n",
    "IPS = DATA / \"rnaseq_res_ips\"\n",
    "FIBRO = DATA / \"rnaseq_res_fibro\"\n",
    "HIMORNA = DATA / \"himorna_peaks\"\n",
    "FANTOM = DATA / \"fantom_cat\"\n",
    "PREPROCESSING = Path(\"../preprocessing\")\n",
    "HIMORNA_INDEX = PREPROCESSING / \"himorna_index\"\n",
    "IPS_INDEX = PREPROCESSING / \"ips_deg_index\"\n",
    "MATRICES = PREPROCESSING / \"matrices\"\n",
    "FISHER = PREPROCESSING / \"fisher_exact_test\""
   ]
  },
  {
   "cell_type": "markdown",
   "id": "82dac182-bc16-4f0f-973f-8d4d5b4f9869",
   "metadata": {},
   "source": [
    "## fantom fibroblast deg"
   ]
  },
  {
   "cell_type": "code",
   "execution_count": 3,
   "id": "7df6eb95-3a60-4616-bb3d-60806a980dca",
   "metadata": {},
   "outputs": [
    {
     "data": {
      "text/html": [
       "<div>\n",
       "<style scoped>\n",
       "    .dataframe tbody tr th:only-of-type {\n",
       "        vertical-align: middle;\n",
       "    }\n",
       "\n",
       "    .dataframe tbody tr th {\n",
       "        vertical-align: top;\n",
       "    }\n",
       "\n",
       "    .dataframe thead th {\n",
       "        text-align: right;\n",
       "    }\n",
       "</style>\n",
       "<table border=\"1\" class=\"dataframe\">\n",
       "  <thead>\n",
       "    <tr style=\"text-align: right;\">\n",
       "      <th></th>\n",
       "      <th>geneID</th>\n",
       "      <th>geneSymbol</th>\n",
       "      <th>ASO_G0268895_01</th>\n",
       "      <th>ASO_G0268895_03</th>\n",
       "      <th>ASO_G0205485_01</th>\n",
       "      <th>ASO_G0205485_03</th>\n",
       "      <th>ASO_G0231185_02</th>\n",
       "      <th>ASO_G0231185_03</th>\n",
       "      <th>ASO_G0231312_02</th>\n",
       "      <th>ASO_G0231312_04</th>\n",
       "      <th>...</th>\n",
       "      <th>ASO_G0247240_AD_05</th>\n",
       "      <th>ASO_G0247240_AD_06</th>\n",
       "      <th>ASO_G0180769_03</th>\n",
       "      <th>ASO_G0180769_08</th>\n",
       "      <th>ASO_G0180769_AD_03</th>\n",
       "      <th>ASO_G0234420_01</th>\n",
       "      <th>ASO_G0230844_01</th>\n",
       "      <th>ASO_G0230844_AD_06</th>\n",
       "      <th>ASO_G0269293_01</th>\n",
       "      <th>ASO_G0269293_AD_10</th>\n",
       "    </tr>\n",
       "  </thead>\n",
       "  <tbody>\n",
       "    <tr>\n",
       "      <th>0</th>\n",
       "      <td>ENSG00000200169</td>\n",
       "      <td>RNU5D-1</td>\n",
       "      <td>-1</td>\n",
       "      <td>0</td>\n",
       "      <td>0</td>\n",
       "      <td>0</td>\n",
       "      <td>0</td>\n",
       "      <td>0</td>\n",
       "      <td>0</td>\n",
       "      <td>0</td>\n",
       "      <td>...</td>\n",
       "      <td>0</td>\n",
       "      <td>0</td>\n",
       "      <td>0</td>\n",
       "      <td>0</td>\n",
       "      <td>0</td>\n",
       "      <td>0</td>\n",
       "      <td>0</td>\n",
       "      <td>0</td>\n",
       "      <td>0</td>\n",
       "      <td>0</td>\n",
       "    </tr>\n",
       "    <tr>\n",
       "      <th>1</th>\n",
       "      <td>ENSG00000138675</td>\n",
       "      <td>FGF5</td>\n",
       "      <td>-1</td>\n",
       "      <td>0</td>\n",
       "      <td>0</td>\n",
       "      <td>0</td>\n",
       "      <td>0</td>\n",
       "      <td>-1</td>\n",
       "      <td>0</td>\n",
       "      <td>0</td>\n",
       "      <td>...</td>\n",
       "      <td>0</td>\n",
       "      <td>0</td>\n",
       "      <td>0</td>\n",
       "      <td>0</td>\n",
       "      <td>0</td>\n",
       "      <td>0</td>\n",
       "      <td>0</td>\n",
       "      <td>0</td>\n",
       "      <td>0</td>\n",
       "      <td>0</td>\n",
       "    </tr>\n",
       "    <tr>\n",
       "      <th>2</th>\n",
       "      <td>ENSG00000252521</td>\n",
       "      <td>RNU5D-2P</td>\n",
       "      <td>-1</td>\n",
       "      <td>0</td>\n",
       "      <td>0</td>\n",
       "      <td>0</td>\n",
       "      <td>0</td>\n",
       "      <td>0</td>\n",
       "      <td>0</td>\n",
       "      <td>0</td>\n",
       "      <td>...</td>\n",
       "      <td>0</td>\n",
       "      <td>0</td>\n",
       "      <td>0</td>\n",
       "      <td>0</td>\n",
       "      <td>0</td>\n",
       "      <td>0</td>\n",
       "      <td>0</td>\n",
       "      <td>0</td>\n",
       "      <td>0</td>\n",
       "      <td>0</td>\n",
       "    </tr>\n",
       "    <tr>\n",
       "      <th>3</th>\n",
       "      <td>ENSG00000268895</td>\n",
       "      <td>A1BG-AS1</td>\n",
       "      <td>-1</td>\n",
       "      <td>-1</td>\n",
       "      <td>0</td>\n",
       "      <td>0</td>\n",
       "      <td>0</td>\n",
       "      <td>0</td>\n",
       "      <td>0</td>\n",
       "      <td>0</td>\n",
       "      <td>...</td>\n",
       "      <td>0</td>\n",
       "      <td>0</td>\n",
       "      <td>0</td>\n",
       "      <td>0</td>\n",
       "      <td>0</td>\n",
       "      <td>0</td>\n",
       "      <td>0</td>\n",
       "      <td>0</td>\n",
       "      <td>0</td>\n",
       "      <td>0</td>\n",
       "    </tr>\n",
       "    <tr>\n",
       "      <th>4</th>\n",
       "      <td>CATG00000098831</td>\n",
       "      <td>CATG00000098831.1</td>\n",
       "      <td>1</td>\n",
       "      <td>0</td>\n",
       "      <td>0</td>\n",
       "      <td>0</td>\n",
       "      <td>0</td>\n",
       "      <td>0</td>\n",
       "      <td>0</td>\n",
       "      <td>0</td>\n",
       "      <td>...</td>\n",
       "      <td>0</td>\n",
       "      <td>0</td>\n",
       "      <td>0</td>\n",
       "      <td>0</td>\n",
       "      <td>0</td>\n",
       "      <td>0</td>\n",
       "      <td>0</td>\n",
       "      <td>0</td>\n",
       "      <td>0</td>\n",
       "      <td>0</td>\n",
       "    </tr>\n",
       "  </tbody>\n",
       "</table>\n",
       "<p>5 rows × 342 columns</p>\n",
       "</div>"
      ],
      "text/plain": [
       "            geneID         geneSymbol  ASO_G0268895_01  ASO_G0268895_03  \\\n",
       "0  ENSG00000200169            RNU5D-1               -1                0   \n",
       "1  ENSG00000138675               FGF5               -1                0   \n",
       "2  ENSG00000252521           RNU5D-2P               -1                0   \n",
       "3  ENSG00000268895           A1BG-AS1               -1               -1   \n",
       "4  CATG00000098831  CATG00000098831.1                1                0   \n",
       "\n",
       "   ASO_G0205485_01  ASO_G0205485_03  ASO_G0231185_02  ASO_G0231185_03  \\\n",
       "0                0                0                0                0   \n",
       "1                0                0                0               -1   \n",
       "2                0                0                0                0   \n",
       "3                0                0                0                0   \n",
       "4                0                0                0                0   \n",
       "\n",
       "   ASO_G0231312_02  ASO_G0231312_04  ...  ASO_G0247240_AD_05  \\\n",
       "0                0                0  ...                   0   \n",
       "1                0                0  ...                   0   \n",
       "2                0                0  ...                   0   \n",
       "3                0                0  ...                   0   \n",
       "4                0                0  ...                   0   \n",
       "\n",
       "   ASO_G0247240_AD_06  ASO_G0180769_03  ASO_G0180769_08  ASO_G0180769_AD_03  \\\n",
       "0                   0                0                0                   0   \n",
       "1                   0                0                0                   0   \n",
       "2                   0                0                0                   0   \n",
       "3                   0                0                0                   0   \n",
       "4                   0                0                0                   0   \n",
       "\n",
       "   ASO_G0234420_01  ASO_G0230844_01  ASO_G0230844_AD_06  ASO_G0269293_01  \\\n",
       "0                0                0                   0                0   \n",
       "1                0                0                   0                0   \n",
       "2                0                0                   0                0   \n",
       "3                0                0                   0                0   \n",
       "4                0                0                   0                0   \n",
       "\n",
       "   ASO_G0269293_AD_10  \n",
       "0                   0  \n",
       "1                   0  \n",
       "2                   0  \n",
       "3                   0  \n",
       "4                   0  \n",
       "\n",
       "[5 rows x 342 columns]"
      ]
     },
     "execution_count": 3,
     "metadata": {},
     "output_type": "execute_result"
    }
   ],
   "source": [
    "to_fibro = FIBRO / \"DESeq2_genes_ASO_signif.tsv\"\n",
    "fibro_expr = pd.read_csv(to_fibro, sep=\"\\t\")\n",
    "fibro_expr.head()"
   ]
  },
  {
   "cell_type": "code",
   "execution_count": 4,
   "id": "38c3bf2e-7ac8-401c-91e6-1047ab4e90fa",
   "metadata": {},
   "outputs": [
    {
     "data": {
      "text/plain": [
       "(16989, 342)"
      ]
     },
     "execution_count": 4,
     "metadata": {},
     "output_type": "execute_result"
    }
   ],
   "source": [
    "fibro_expr.shape"
   ]
  },
  {
   "cell_type": "code",
   "execution_count": 5,
   "id": "b17ec4bc-b4c7-4d48-ad4b-9d70da4a36b3",
   "metadata": {},
   "outputs": [
    {
     "name": "stdout",
     "output_type": "stream",
     "text": [
      "15.5 %\n"
     ]
    }
   ],
   "source": [
    "noDeg_aso = fibro_expr[2:].sum().isin([0]).sum() / fibro_expr[2:].columns.shape[0] * 100# % ASO в фиброблстах, не имеющих ни одного DEG\n",
    "print(f\"{np.round(noDeg_aso, 2)} %\")"
   ]
  },
  {
   "cell_type": "markdown",
   "id": "d6fd19a6-0897-4b7e-ad8b-0aa5c0efbde1",
   "metadata": {},
   "source": [
    "def deg_from_aso_fibro(aso):\n",
    "    mask = fibro_expr[aso].apply(lambda x: False if x == 0 else True)\n",
    "    return fibro_expr[mask][\"geneID\"]"
   ]
  },
  {
   "cell_type": "markdown",
   "id": "87a52c63-ed7a-4618-b980-9ac1b2d1122c",
   "metadata": {},
   "source": [
    "def deg_from_aso_fibro(aso):\n",
    "    mask = fibro_expr[aso] != 0\n",
    "    return fibro_expr[mask][\"geneID\"]"
   ]
  },
  {
   "cell_type": "code",
   "execution_count": 6,
   "id": "6bccd46c-d745-4254-835a-13b84cf70836",
   "metadata": {},
   "outputs": [],
   "source": [
    "def deg_from_aso_fibro(aso):\n",
    "    mask = fibro_expr[aso] != 0\n",
    "    return fibro_expr.loc[mask, \"geneID\"]"
   ]
  },
  {
   "cell_type": "code",
   "execution_count": 7,
   "id": "07568593-2391-4cf8-87a3-17602dd7bc5e",
   "metadata": {
    "scrolled": true
   },
   "outputs": [
    {
     "name": "stdout",
     "output_type": "stream",
     "text": [
      "CPU times: user 1.38 ms, sys: 547 µs, total: 1.93 ms\n",
      "Wall time: 1.71 ms\n"
     ]
    },
    {
     "data": {
      "text/plain": [
       "1        ENSG00000138675\n",
       "8        ENSG00000183098\n",
       "11       ENSG00000149571\n",
       "14       ENSG00000142892\n",
       "28       ENSG00000162981\n",
       "              ...       \n",
       "15865    ENSG00000165695\n",
       "15939    ENSG00000141294\n",
       "15952    ENSG00000118898\n",
       "15987    CATG00000106578\n",
       "16085    ENSG00000224215\n",
       "Name: geneID, Length: 844, dtype: object"
      ]
     },
     "execution_count": 7,
     "metadata": {},
     "output_type": "execute_result"
    }
   ],
   "source": [
    "%%time\n",
    "deg_from_aso_fibro(\"ASO_G0231185_03\")"
   ]
  },
  {
   "cell_type": "code",
   "execution_count": null,
   "id": "1d5e6247-a78d-4e79-91e3-6902d82b8732",
   "metadata": {},
   "outputs": [],
   "source": []
  },
  {
   "cell_type": "code",
   "execution_count": 55,
   "id": "d6c2e30a-1f89-48da-bd9c-5f6274880174",
   "metadata": {},
   "outputs": [],
   "source": [
    "def gini(aso_list, exp):\n",
    "    results_gini_df = pd.DataFrame(columns=[\"gini_index\"])\n",
    "    pairs = list(combinations(aso_list, 2))\n",
    "    #results_gini = {i:0 for i in pairs}\n",
    "    for i, pair in enumerate(pairs):\n",
    "        if exp == \"fibro\":\n",
    "            deg_1 = np.asarray(deg_from_aso_fibro(pair[0]))\n",
    "            deg_2 = np.asarray(deg_from_aso_fibro(pair[1]))\n",
    "        if exp == \"ips\":\n",
    "            deg_1 = np.asarray(deg_from_aso_ips(pair[0]))\n",
    "            deg_2 = np.asarray(deg_from_aso_ips(pair[1]))\n",
    "        # Пересечение\n",
    "        intersection = np.intersect1d(deg_1, deg_2)\n",
    "        # Объединение\n",
    "        union = np.union1d(deg_1, deg_2)\n",
    "        try:\n",
    "            gini_index = intersection.shape[0] / union.shape[0]\n",
    "            number_of_union_genes = union.shape[0]\n",
    "        except ZeroDivisionError:\n",
    "            gini_index = None\n",
    "        results_gini_df.loc[i, \"gini_index\"] = gini_index\n",
    "        results_gini_df.loc[i, \"number_of_union_genes\"] = number_of_union_genes\n",
    "\n",
    "    results_gini_df[\"aso_pairs\"] = pairs\n",
    "    return results_gini_df"
   ]
  },
  {
   "cell_type": "code",
   "execution_count": 56,
   "id": "d0bcd69a-dbf3-4737-bd49-e9d97f4893fa",
   "metadata": {},
   "outputs": [
    {
     "name": "stderr",
     "output_type": "stream",
     "text": [
      "\n",
      "KeyboardInterrupt\n",
      "\n"
     ]
    }
   ],
   "source": [
    "results_gini_df_fibro = gini(aso_list=fibro_expr.columns[2:], exp=\"fibro\")"
   ]
  },
  {
   "cell_type": "code",
   "execution_count": 52,
   "id": "37095c75-30ba-48d2-b6cd-3310c2e5c410",
   "metadata": {},
   "outputs": [
    {
     "data": {
      "text/html": [
       "<div>\n",
       "<style scoped>\n",
       "    .dataframe tbody tr th:only-of-type {\n",
       "        vertical-align: middle;\n",
       "    }\n",
       "\n",
       "    .dataframe tbody tr th {\n",
       "        vertical-align: top;\n",
       "    }\n",
       "\n",
       "    .dataframe thead th {\n",
       "        text-align: right;\n",
       "    }\n",
       "</style>\n",
       "<table border=\"1\" class=\"dataframe\">\n",
       "  <thead>\n",
       "    <tr style=\"text-align: right;\">\n",
       "      <th></th>\n",
       "      <th>gini_index</th>\n",
       "    </tr>\n",
       "  </thead>\n",
       "  <tbody>\n",
       "    <tr>\n",
       "      <th>0</th>\n",
       "      <td>0.079493</td>\n",
       "    </tr>\n",
       "  </tbody>\n",
       "</table>\n",
       "</div>"
      ],
      "text/plain": [
       "  gini_index\n",
       "0   0.079493"
      ]
     },
     "execution_count": 52,
     "metadata": {},
     "output_type": "execute_result"
    }
   ],
   "source": [
    "results_gini_df_fibro"
   ]
  },
  {
   "cell_type": "code",
   "execution_count": 21,
   "id": "0047f129-0110-450a-bdfa-442c873c208f",
   "metadata": {},
   "outputs": [],
   "source": [
    "list(combinations(fibro_expr.columns[2:], 2))\n",
    "deg_1 = np.asarray(deg_from_aso_fibro(\"ASO_G0268895_01\"))\n",
    "deg_2 = np.asarray(deg_from_aso_fibro(\"ASO_G0268895_03\"))"
   ]
  },
  {
   "cell_type": "code",
   "execution_count": 21,
   "id": "c5f03126-ce60-4b33-b317-5a540f68d401",
   "metadata": {},
   "outputs": [
    {
     "data": {
      "text/html": [
       "<div>\n",
       "<style scoped>\n",
       "    .dataframe tbody tr th:only-of-type {\n",
       "        vertical-align: middle;\n",
       "    }\n",
       "\n",
       "    .dataframe tbody tr th {\n",
       "        vertical-align: top;\n",
       "    }\n",
       "\n",
       "    .dataframe thead th {\n",
       "        text-align: right;\n",
       "    }\n",
       "</style>\n",
       "<table border=\"1\" class=\"dataframe\">\n",
       "  <thead>\n",
       "    <tr style=\"text-align: right;\">\n",
       "      <th></th>\n",
       "      <th>aso_id</th>\n",
       "      <th>aso_id_short</th>\n",
       "      <th>prmtrID</th>\n",
       "      <th>prmtrName</th>\n",
       "      <th>trnscptID</th>\n",
       "      <th>trnscptName</th>\n",
       "      <th>trnscptType</th>\n",
       "      <th>geneID</th>\n",
       "      <th>geneName</th>\n",
       "      <th>geneType</th>\n",
       "    </tr>\n",
       "  </thead>\n",
       "  <tbody>\n",
       "    <tr>\n",
       "      <th>0</th>\n",
       "      <td>ASO_C0000830_02</td>\n",
       "      <td>C0000830</td>\n",
       "      <td>CUFT00000000830.T0</td>\n",
       "      <td>chr1_50977446_50977745_+</td>\n",
       "      <td>p012@CDKN2C</td>\n",
       "      <td>CUFT00000000830.T0</td>\n",
       "      <td>__na</td>\n",
       "      <td>ENSG00000123080</td>\n",
       "      <td>CDKN2C</td>\n",
       "      <td>protein_coding</td>\n",
       "    </tr>\n",
       "    <tr>\n",
       "      <th>1</th>\n",
       "      <td>ASO_C0000830_08</td>\n",
       "      <td>C0000830</td>\n",
       "      <td>CUFT00000000830.T0</td>\n",
       "      <td>chr1_50977446_50977745_+</td>\n",
       "      <td>p012@CDKN2C</td>\n",
       "      <td>CUFT00000000830.T0</td>\n",
       "      <td>__na</td>\n",
       "      <td>ENSG00000123080</td>\n",
       "      <td>CDKN2C</td>\n",
       "      <td>protein_coding</td>\n",
       "    </tr>\n",
       "    <tr>\n",
       "      <th>2</th>\n",
       "      <td>ASO_C0008202_01</td>\n",
       "      <td>C0008202</td>\n",
       "      <td>CUFT00000008202.T0</td>\n",
       "      <td>chr4_183350680_183350979_-</td>\n",
       "      <td>p003@CLDN22</td>\n",
       "      <td>CUFT00000008202.T0</td>\n",
       "      <td>__na</td>\n",
       "      <td>ENSG00000177300</td>\n",
       "      <td>CLDN22</td>\n",
       "      <td>protein_coding</td>\n",
       "    </tr>\n",
       "    <tr>\n",
       "      <th>3</th>\n",
       "      <td>ASO_C0008202_02</td>\n",
       "      <td>C0008202</td>\n",
       "      <td>CUFT00000008202.T0</td>\n",
       "      <td>chr4_183350680_183350979_-</td>\n",
       "      <td>p003@CLDN22</td>\n",
       "      <td>CUFT00000008202.T0</td>\n",
       "      <td>__na</td>\n",
       "      <td>ENSG00000177300</td>\n",
       "      <td>CLDN22</td>\n",
       "      <td>protein_coding</td>\n",
       "    </tr>\n",
       "    <tr>\n",
       "      <th>4</th>\n",
       "      <td>ASO_C0008202_04</td>\n",
       "      <td>C0008202</td>\n",
       "      <td>CUFT00000008202.T0</td>\n",
       "      <td>chr4_183350680_183350979_-</td>\n",
       "      <td>p003@CLDN22</td>\n",
       "      <td>CUFT00000008202.T0</td>\n",
       "      <td>__na</td>\n",
       "      <td>ENSG00000177300</td>\n",
       "      <td>CLDN22</td>\n",
       "      <td>protein_coding</td>\n",
       "    </tr>\n",
       "  </tbody>\n",
       "</table>\n",
       "</div>"
      ],
      "text/plain": [
       "            aso_id aso_id_short             prmtrID  \\\n",
       "0  ASO_C0000830_02     C0000830  CUFT00000000830.T0   \n",
       "1  ASO_C0000830_08     C0000830  CUFT00000000830.T0   \n",
       "2  ASO_C0008202_01     C0008202  CUFT00000008202.T0   \n",
       "3  ASO_C0008202_02     C0008202  CUFT00000008202.T0   \n",
       "4  ASO_C0008202_04     C0008202  CUFT00000008202.T0   \n",
       "\n",
       "                    prmtrName    trnscptID         trnscptName trnscptType  \\\n",
       "0    chr1_50977446_50977745_+  p012@CDKN2C  CUFT00000000830.T0        __na   \n",
       "1    chr1_50977446_50977745_+  p012@CDKN2C  CUFT00000000830.T0        __na   \n",
       "2  chr4_183350680_183350979_-  p003@CLDN22  CUFT00000008202.T0        __na   \n",
       "3  chr4_183350680_183350979_-  p003@CLDN22  CUFT00000008202.T0        __na   \n",
       "4  chr4_183350680_183350979_-  p003@CLDN22  CUFT00000008202.T0        __na   \n",
       "\n",
       "            geneID geneName        geneType  \n",
       "0  ENSG00000123080   CDKN2C  protein_coding  \n",
       "1  ENSG00000123080   CDKN2C  protein_coding  \n",
       "2  ENSG00000177300   CLDN22  protein_coding  \n",
       "3  ENSG00000177300   CLDN22  protein_coding  \n",
       "4  ENSG00000177300   CLDN22  protein_coding  "
      ]
     },
     "execution_count": 21,
     "metadata": {},
     "output_type": "execute_result"
    }
   ],
   "source": [
    "to_fibro_aso = FIBRO / \"ASO_names.info\"\n",
    "fibro_aso = pd.read_csv(to_fibro_aso, sep=\"\\t\")\n",
    "fibro_aso.head()"
   ]
  },
  {
   "cell_type": "code",
   "execution_count": 23,
   "id": "5ee46bf4-9d5a-47f4-b345-d16aaa586748",
   "metadata": {},
   "outputs": [
    {
     "data": {
      "text/plain": [
       "(350,)"
      ]
     },
     "execution_count": 23,
     "metadata": {},
     "output_type": "execute_result"
    }
   ],
   "source": [
    "fibro_aso['aso_id'].unique().shape"
   ]
  },
  {
   "cell_type": "markdown",
   "id": "1c41a660-6473-4199-864c-4fcb2b41369d",
   "metadata": {},
   "source": [
    "## fantom ips deg"
   ]
  },
  {
   "cell_type": "code",
   "execution_count": 157,
   "id": "97d6ffe0-add8-4135-be73-2febeb71f4fa",
   "metadata": {
    "scrolled": true
   },
   "outputs": [
    {
     "data": {
      "text/html": [
       "<div>\n",
       "<style scoped>\n",
       "    .dataframe tbody tr th:only-of-type {\n",
       "        vertical-align: middle;\n",
       "    }\n",
       "\n",
       "    .dataframe tbody tr th {\n",
       "        vertical-align: top;\n",
       "    }\n",
       "\n",
       "    .dataframe thead th {\n",
       "        text-align: right;\n",
       "    }\n",
       "</style>\n",
       "<table border=\"1\" class=\"dataframe\">\n",
       "  <thead>\n",
       "    <tr style=\"text-align: right;\">\n",
       "      <th></th>\n",
       "      <th>DEG.geneID</th>\n",
       "      <th>DEG.HGNC</th>\n",
       "      <th>EdgeR.log2FC</th>\n",
       "      <th>EdgeR.log2CPM</th>\n",
       "      <th>EdgeR.pvalue</th>\n",
       "      <th>EdgeR.FDR</th>\n",
       "      <th>EdgeR.Zscore</th>\n",
       "      <th>target.gapmerID</th>\n",
       "      <th>target.geneID</th>\n",
       "      <th>target.HGNC</th>\n",
       "    </tr>\n",
       "  </thead>\n",
       "  <tbody>\n",
       "    <tr>\n",
       "      <th>0</th>\n",
       "      <td>CATG00000000155</td>\n",
       "      <td>CATG00000000155.1</td>\n",
       "      <td>0.257141</td>\n",
       "      <td>3.591144</td>\n",
       "      <td>0.550588</td>\n",
       "      <td>1.0</td>\n",
       "      <td>0.620927</td>\n",
       "      <td>G0234787_01</td>\n",
       "      <td>ENSG00000234787</td>\n",
       "      <td>LINC00458</td>\n",
       "    </tr>\n",
       "    <tr>\n",
       "      <th>1</th>\n",
       "      <td>CATG00000001164</td>\n",
       "      <td>CATG00000001164.1</td>\n",
       "      <td>0.706131</td>\n",
       "      <td>3.805757</td>\n",
       "      <td>0.044323</td>\n",
       "      <td>1.0</td>\n",
       "      <td>1.757448</td>\n",
       "      <td>G0234787_01</td>\n",
       "      <td>ENSG00000234787</td>\n",
       "      <td>LINC00458</td>\n",
       "    </tr>\n",
       "    <tr>\n",
       "      <th>2</th>\n",
       "      <td>CATG00000001318</td>\n",
       "      <td>CATG00000001318.1</td>\n",
       "      <td>-0.074655</td>\n",
       "      <td>4.766566</td>\n",
       "      <td>0.913694</td>\n",
       "      <td>1.0</td>\n",
       "      <td>0.052701</td>\n",
       "      <td>G0234787_01</td>\n",
       "      <td>ENSG00000234787</td>\n",
       "      <td>LINC00458</td>\n",
       "    </tr>\n",
       "    <tr>\n",
       "      <th>3</th>\n",
       "      <td>CATG00000002817</td>\n",
       "      <td>CATG00000002817.1</td>\n",
       "      <td>-0.201767</td>\n",
       "      <td>3.841792</td>\n",
       "      <td>0.716487</td>\n",
       "      <td>1.0</td>\n",
       "      <td>-0.414103</td>\n",
       "      <td>G0234787_01</td>\n",
       "      <td>ENSG00000234787</td>\n",
       "      <td>LINC00458</td>\n",
       "    </tr>\n",
       "    <tr>\n",
       "      <th>4</th>\n",
       "      <td>CATG00000003248</td>\n",
       "      <td>CATG00000003248.1</td>\n",
       "      <td>-0.155609</td>\n",
       "      <td>4.592817</td>\n",
       "      <td>0.650460</td>\n",
       "      <td>1.0</td>\n",
       "      <td>0.026003</td>\n",
       "      <td>G0234787_01</td>\n",
       "      <td>ENSG00000234787</td>\n",
       "      <td>LINC00458</td>\n",
       "    </tr>\n",
       "  </tbody>\n",
       "</table>\n",
       "</div>"
      ],
      "text/plain": [
       "        DEG.geneID           DEG.HGNC  EdgeR.log2FC  EdgeR.log2CPM  \\\n",
       "0  CATG00000000155  CATG00000000155.1      0.257141       3.591144   \n",
       "1  CATG00000001164  CATG00000001164.1      0.706131       3.805757   \n",
       "2  CATG00000001318  CATG00000001318.1     -0.074655       4.766566   \n",
       "3  CATG00000002817  CATG00000002817.1     -0.201767       3.841792   \n",
       "4  CATG00000003248  CATG00000003248.1     -0.155609       4.592817   \n",
       "\n",
       "   EdgeR.pvalue  EdgeR.FDR  EdgeR.Zscore target.gapmerID    target.geneID  \\\n",
       "0      0.550588        1.0      0.620927     G0234787_01  ENSG00000234787   \n",
       "1      0.044323        1.0      1.757448     G0234787_01  ENSG00000234787   \n",
       "2      0.913694        1.0      0.052701     G0234787_01  ENSG00000234787   \n",
       "3      0.716487        1.0     -0.414103     G0234787_01  ENSG00000234787   \n",
       "4      0.650460        1.0      0.026003     G0234787_01  ENSG00000234787   \n",
       "\n",
       "  target.HGNC  \n",
       "0   LINC00458  \n",
       "1   LINC00458  \n",
       "2   LINC00458  \n",
       "3   LINC00458  \n",
       "4   LINC00458  "
      ]
     },
     "execution_count": 157,
     "metadata": {},
     "output_type": "execute_result"
    }
   ],
   "source": [
    "to_ips = IPS / \"EdgeR.table.all.target.tsv.gz\"\n",
    "ips_expr = pd.read_csv(to_ips, sep=\"\\t\")\n",
    "ips_expr.head()"
   ]
  },
  {
   "cell_type": "code",
   "execution_count": 159,
   "id": "23183c8e-dca2-49c8-bd6f-25dcfb2047f3",
   "metadata": {},
   "outputs": [
    {
     "data": {
      "text/plain": [
       "(3445156, 10)"
      ]
     },
     "execution_count": 159,
     "metadata": {},
     "output_type": "execute_result"
    }
   ],
   "source": [
    "ips_expr.shape"
   ]
  },
  {
   "cell_type": "code",
   "execution_count": 158,
   "id": "64d04ef7-24f2-47e7-9e07-c3ea91daaee3",
   "metadata": {},
   "outputs": [
    {
     "data": {
      "text/html": [
       "<div>\n",
       "<style scoped>\n",
       "    .dataframe tbody tr th:only-of-type {\n",
       "        vertical-align: middle;\n",
       "    }\n",
       "\n",
       "    .dataframe tbody tr th {\n",
       "        vertical-align: top;\n",
       "    }\n",
       "\n",
       "    .dataframe thead th {\n",
       "        text-align: right;\n",
       "    }\n",
       "</style>\n",
       "<table border=\"1\" class=\"dataframe\">\n",
       "  <thead>\n",
       "    <tr style=\"text-align: right;\">\n",
       "      <th></th>\n",
       "      <th>DEG.geneID</th>\n",
       "      <th>DEG.HGNC</th>\n",
       "      <th>EdgeR.log2FC</th>\n",
       "      <th>EdgeR.log2CPM</th>\n",
       "      <th>EdgeR.pvalue</th>\n",
       "      <th>EdgeR.FDR</th>\n",
       "      <th>EdgeR.Zscore</th>\n",
       "      <th>target.gapmerID</th>\n",
       "      <th>target.geneID</th>\n",
       "      <th>target.HGNC</th>\n",
       "    </tr>\n",
       "  </thead>\n",
       "  <tbody>\n",
       "    <tr>\n",
       "      <th>0</th>\n",
       "      <td>ENSG00000205531</td>\n",
       "      <td>NAP1L4</td>\n",
       "      <td>-0.691972</td>\n",
       "      <td>7.349218</td>\n",
       "      <td>3.899614e-06</td>\n",
       "      <td>0.042455</td>\n",
       "      <td>-5.061144</td>\n",
       "      <td>G0234787_08</td>\n",
       "      <td>ENSG00000234787</td>\n",
       "      <td>LINC00458</td>\n",
       "    </tr>\n",
       "    <tr>\n",
       "      <th>1</th>\n",
       "      <td>ENSG00000089916</td>\n",
       "      <td>GPATCH2L</td>\n",
       "      <td>-1.041246</td>\n",
       "      <td>5.600935</td>\n",
       "      <td>3.913478e-05</td>\n",
       "      <td>0.043336</td>\n",
       "      <td>-3.953852</td>\n",
       "      <td>R0057746_03</td>\n",
       "      <td>CATG00000070943</td>\n",
       "      <td>CATG00000070943.1</td>\n",
       "    </tr>\n",
       "    <tr>\n",
       "      <th>2</th>\n",
       "      <td>ENSG00000099194</td>\n",
       "      <td>SCD</td>\n",
       "      <td>-0.635000</td>\n",
       "      <td>8.662415</td>\n",
       "      <td>2.054724e-07</td>\n",
       "      <td>0.000870</td>\n",
       "      <td>-2.709444</td>\n",
       "      <td>R0057746_03</td>\n",
       "      <td>CATG00000070943</td>\n",
       "      <td>CATG00000070943.1</td>\n",
       "    </tr>\n",
       "    <tr>\n",
       "      <th>3</th>\n",
       "      <td>ENSG00000113161</td>\n",
       "      <td>HMGCR</td>\n",
       "      <td>-0.912822</td>\n",
       "      <td>6.861125</td>\n",
       "      <td>1.601495e-05</td>\n",
       "      <td>0.029059</td>\n",
       "      <td>-3.682696</td>\n",
       "      <td>R0057746_03</td>\n",
       "      <td>CATG00000070943</td>\n",
       "      <td>CATG00000070943.1</td>\n",
       "    </tr>\n",
       "    <tr>\n",
       "      <th>4</th>\n",
       "      <td>ENSG00000128829</td>\n",
       "      <td>EIF2AK4</td>\n",
       "      <td>-0.887877</td>\n",
       "      <td>6.605389</td>\n",
       "      <td>2.397361e-07</td>\n",
       "      <td>0.000870</td>\n",
       "      <td>-4.709886</td>\n",
       "      <td>R0057746_03</td>\n",
       "      <td>CATG00000070943</td>\n",
       "      <td>CATG00000070943.1</td>\n",
       "    </tr>\n",
       "  </tbody>\n",
       "</table>\n",
       "</div>"
      ],
      "text/plain": [
       "        DEG.geneID  DEG.HGNC  EdgeR.log2FC  EdgeR.log2CPM  EdgeR.pvalue  \\\n",
       "0  ENSG00000205531    NAP1L4     -0.691972       7.349218  3.899614e-06   \n",
       "1  ENSG00000089916  GPATCH2L     -1.041246       5.600935  3.913478e-05   \n",
       "2  ENSG00000099194       SCD     -0.635000       8.662415  2.054724e-07   \n",
       "3  ENSG00000113161     HMGCR     -0.912822       6.861125  1.601495e-05   \n",
       "4  ENSG00000128829   EIF2AK4     -0.887877       6.605389  2.397361e-07   \n",
       "\n",
       "   EdgeR.FDR  EdgeR.Zscore target.gapmerID    target.geneID        target.HGNC  \n",
       "0   0.042455     -5.061144     G0234787_08  ENSG00000234787          LINC00458  \n",
       "1   0.043336     -3.953852     R0057746_03  CATG00000070943  CATG00000070943.1  \n",
       "2   0.000870     -2.709444     R0057746_03  CATG00000070943  CATG00000070943.1  \n",
       "3   0.029059     -3.682696     R0057746_03  CATG00000070943  CATG00000070943.1  \n",
       "4   0.000870     -4.709886     R0057746_03  CATG00000070943  CATG00000070943.1  "
      ]
     },
     "execution_count": 158,
     "metadata": {},
     "output_type": "execute_result"
    }
   ],
   "source": [
    "ips_expr_filt = ips_expr[(((ips_expr[\"EdgeR.log2FC\"] < 0.5) & (ips_expr[\"EdgeR.Zscore\"] < -1.64)) | \n",
    "                                ((ips_expr[\"EdgeR.log2FC\"] > 0.5) & (ips_expr[\"EdgeR.Zscore\"] > 1.64))) & \n",
    "                                (ips_expr[\"EdgeR.FDR\"] < 0.05)]\n",
    "ips_expr_filt.reset_index(inplace=True, drop=True)\n",
    "ips_expr_filt.head()       "
   ]
  },
  {
   "cell_type": "code",
   "execution_count": 160,
   "id": "72193ae3-3bfa-4bfb-a0a8-277bc138fcdb",
   "metadata": {},
   "outputs": [
    {
     "data": {
      "text/plain": [
       "(16294, 10)"
      ]
     },
     "execution_count": 160,
     "metadata": {},
     "output_type": "execute_result"
    }
   ],
   "source": [
    "ips_expr_filt.shape"
   ]
  },
  {
   "cell_type": "code",
   "execution_count": 161,
   "id": "10fe54a5-105d-4172-a43b-7b40037843ec",
   "metadata": {
    "collapsed": true,
    "jupyter": {
     "outputs_hidden": true
    }
   },
   "outputs": [
    {
     "data": {
      "text/plain": [
       "array(['G0234787_08', 'R0057746_03', 'G0254635_01', 'G0253352_AD_01',\n",
       "       'G0253352_02', 'G0267040_02', 'G0267040_08', 'G0228592_10',\n",
       "       'R0016212_01', 'G0245571_AD_03', 'G0246067_AD_04', 'R0042263_02',\n",
       "       'G0254635_08', 'G0229852_01', 'G0245571_03', 'G0237298_01',\n",
       "       'R0016212_08', 'G0230590_AD_03', 'R0067169_07', 'G0230590_AD_02',\n",
       "       'G0212978_03', 'G0246273_05', 'G0224597_02', 'G0234546_AD_09',\n",
       "       'G0253352_AD_07', 'G0212978_04', 'R0038353_02', 'G0223546_01',\n",
       "       'G0246067_AD_09', 'G0234546_AD_05', 'R0016212_06', 'R0067169_01',\n",
       "       'G0237298_09', 'G0246273_AD_08', 'G0212978_06', 'G0241472_07',\n",
       "       'G0228592_05', 'G0223546_09', 'R0042263_04', 'G0246273_01',\n",
       "       'G0229852_AD_01', 'G0215447_03', 'G0228592_02', 'G0246273_02',\n",
       "       'G0223546_05', 'G0253352_06', 'G0234546_AD_04', 'G0264164_04',\n",
       "       'G0254635_10', 'G0231185_03', 'G0234171_09', 'G0253352_01',\n",
       "       'G0224597_05', 'G0231185_09', 'C0020672_02', 'G0241472_04',\n",
       "       'G0234546_02', 'G0234171_02', 'G0264164_09', 'R0038353_03',\n",
       "       'G0257815_05', 'C0020672_01', 'G0234171_03', 'G0264164_06',\n",
       "       'G0257815_AD_01', 'G0234546_AD_06', 'C0020672_07', 'C0012015_11',\n",
       "       'C0012015_16', 'C0012015_18', 'C0011140_11', 'C0011140_16',\n",
       "       'G0266916_04', 'G0237976_02', 'R0062417_07', 'G0259153_03',\n",
       "       'G0250337_06', 'G0272288_04', 'R0003970_02', 'G0227403_01',\n",
       "       'G0223813_01', 'R0062334_03', 'G0226900_01', 'G0223813_02',\n",
       "       'G0261366_04', 'G0225975_05', 'G0233137_05', 'G0253477_01',\n",
       "       'G0272288_09', 'R0031591_02', 'G0248605_01', 'G0247735_03',\n",
       "       'G0248329_02', 'G0259153_01', 'R0062334_01', 'R0025901_08',\n",
       "       'G0258603_05', 'R0003970_08', 'G0227117_05', 'R0025901_03',\n",
       "       'G0254277_01', 'G0268889_05', 'G0250046_04', 'R0019755_04',\n",
       "       'R0019755_01', 'R0025901_10', 'G0233393_07', 'G0227627_08',\n",
       "       'R0080446_04', 'G0231566_02', 'G0225975_10', 'G0250046_07',\n",
       "       'G0228794_01', 'G0258603_06', 'G0261804_01', 'G0227403_02',\n",
       "       'G0231698_08', 'G0237819_09', 'G0259146_09', 'R0028081_08',\n",
       "       'G0231566_03', 'G0247735_05', 'G0213468_04', 'C0012015_AD_02',\n",
       "       'G0273145_01', 'G0248587_03', 'G0235560_03', 'R0031591_03',\n",
       "       'G0237489_09', 'G0249042_08', 'G0261366_02', 'G0250309_01',\n",
       "       'R0028081_04', 'R0025594_03', 'G0237742_01', 'G0234026_06',\n",
       "       'R0028081_02', 'G0237742_02', 'G0258819_04', 'G0228106_06',\n",
       "       'G0231806_08', 'G0233056_07', 'G0235560_01', 'G0227627_03',\n",
       "       'G0245937_01', 'C0012015_AD_04', 'G0273145_04', 'G0233137_02',\n",
       "       'G0225484_07', 'G0225484_02', 'G0231566_08', 'G0249042_01',\n",
       "       'C0012015_AD_05', 'G0228106_03', 'G0259203_07', 'R0040849_06',\n",
       "       'G0226310_03', 'G0263146_10', 'G0258819_03', 'G0231698_04',\n",
       "       'G0247271_07', 'G0247572_08', 'G0250337_03', 'G0267751_06',\n",
       "       'G0226310_01', 'G0227403_04', 'G0237489_03', 'G0225489_01',\n",
       "       'G0245937_AD_02', 'G0250309_04', 'G0260267_06', 'G0251580_07',\n",
       "       'G0246985_AD_04', 'G0235560_07', 'G0229153_09', 'G0229953_01',\n",
       "       'R0040849_07', 'R0025594_04', 'G0231806_07', 'G0233056_01',\n",
       "       'G0228794_04', 'G0235823_AD_08', 'G0142396_AD_07',\n",
       "       'G0272888_AD_06', 'G0234026_01', 'C0011140_09', 'G0226900_02',\n",
       "       'R0022237_07', 'G0260267_02', 'G0227117_01', 'G0226900_04',\n",
       "       'G0267751_09', 'G0233184_04', 'G0235823_AD_01', 'G0253477_02',\n",
       "       'G0259203_04', 'G0223960_04', 'R0009025_03', 'G0226900_03',\n",
       "       'R0009025_10', 'G0188002_01', 'G0272888_AD_07', 'R0022237_02',\n",
       "       'G0269834_AD_06', 'G0245937_04', 'G0248508_04', 'G0267751_AD_01',\n",
       "       'G0233184_03', 'G0246985_AD_07', 'G0248605_04', 'R0022237_04',\n",
       "       'G0253477_05', 'G0226031_02', 'G0254860_02', 'G0230623_09',\n",
       "       'G0234608_03', 'G0250046_03', 'G0263146_04', 'G0248508_07',\n",
       "       'G0188002_06', 'G0223960_AD_10', 'G0230623_05', 'G0230844_01',\n",
       "       'G0142396_AD_01', 'G0230623_02', 'G0245958_05', 'C0011140_07',\n",
       "       'G0234608_AD_08', 'C0011140_06', 'G0237976_03', 'G0235437_07',\n",
       "       'G0251580_01', 'G0269821_08', 'G0250337_05', 'G0226031_08',\n",
       "       'G0235437_06', 'G0224843_04', 'G0224843_03', 'G0243701_AD_07',\n",
       "       'G0227117_04', 'G0229953_02', 'G0263753_AD_01', 'G0245958_AD_02',\n",
       "       'G0224843_05', 'G0196668_08', 'G0203721_01', 'G0213468_05',\n",
       "       'G0263753_AD_04', 'G0247556_09', 'G0185847_05', 'G0185847_06',\n",
       "       'G0203721_05', 'G0185847_08', 'G0196668_02', 'G0263753_05',\n",
       "       'G0247556_05', 'G0224843_01', 'G0269821_02', 'G0230844_AD_07'],\n",
       "      dtype=object)"
      ]
     },
     "execution_count": 161,
     "metadata": {},
     "output_type": "execute_result"
    }
   ],
   "source": [
    "ips_expr_filt[\"target.gapmerID\"].unique()"
   ]
  },
  {
   "cell_type": "code",
   "execution_count": 152,
   "id": "0db39ac2-14ff-4fcf-870b-3afbf0ab27dc",
   "metadata": {},
   "outputs": [],
   "source": [
    "def deg_from_aso_ips(aso):\n",
    "    to_deg = [i for i in IPS_INDEX.glob(f'*/*{aso}*.tsv.gz')][0]\n",
    "    deg_gene_ids = np.asarray(pd.read_csv(to_deg, sep=\"\\t\", usecols=[\"DEG.geneID\"])[\"DEG.geneID\"])\n",
    "    return deg_gene_ids"
   ]
  },
  {
   "cell_type": "code",
   "execution_count": 156,
   "id": "399848a7-9744-4007-b34e-a189983d96a6",
   "metadata": {},
   "outputs": [
    {
     "data": {
      "text/plain": [
       "array(['ENSG00000169223', 'ENSG00000188002'], dtype=object)"
      ]
     },
     "execution_count": 156,
     "metadata": {},
     "output_type": "execute_result"
    }
   ],
   "source": [
    "deg_from_aso_ips(\"G0188002_01\")"
   ]
  },
  {
   "cell_type": "code",
   "execution_count": 357,
   "id": "89b4e04a-9dec-40f1-9b0f-514c9a977158",
   "metadata": {},
   "outputs": [
    {
     "ename": "KeyboardInterrupt",
     "evalue": "",
     "output_type": "error",
     "traceback": [
      "\u001b[0;31m---------------------------------------------------------------------------\u001b[0m",
      "\u001b[0;31mKeyboardInterrupt\u001b[0m                         Traceback (most recent call last)",
      "Cell \u001b[0;32mIn[357], line 1\u001b[0m\n\u001b[0;32m----> 1\u001b[0m results_gini_df_ips \u001b[38;5;241m=\u001b[39m \u001b[43mgini\u001b[49m\u001b[43m(\u001b[49m\u001b[43maso_list\u001b[49m\u001b[38;5;241;43m=\u001b[39;49m\u001b[43mips_expr_filt\u001b[49m\u001b[43m[\u001b[49m\u001b[38;5;124;43m\"\u001b[39;49m\u001b[38;5;124;43mtarget.gapmerID\u001b[39;49m\u001b[38;5;124;43m\"\u001b[39;49m\u001b[43m]\u001b[49m\u001b[38;5;241;43m.\u001b[39;49m\u001b[43munique\u001b[49m\u001b[43m(\u001b[49m\u001b[43m)\u001b[49m\u001b[43m,\u001b[49m\u001b[43m \u001b[49m\u001b[43mexp\u001b[49m\u001b[38;5;241;43m=\u001b[39;49m\u001b[38;5;124;43m\"\u001b[39;49m\u001b[38;5;124;43mips\u001b[39;49m\u001b[38;5;124;43m\"\u001b[39;49m\u001b[43m)\u001b[49m\n",
      "Cell \u001b[0;32mIn[354], line 21\u001b[0m, in \u001b[0;36mgini\u001b[0;34m(aso_list, exp)\u001b[0m\n\u001b[1;32m     19\u001b[0m         \u001b[38;5;28;01mreturn\u001b[39;00m intersection, union\n\u001b[1;32m     20\u001b[0m         gini_index \u001b[38;5;241m=\u001b[39m \u001b[38;5;28;01mNone\u001b[39;00m\n\u001b[0;32m---> 21\u001b[0m     \u001b[43mresults_gini_df\u001b[49m\u001b[38;5;241;43m.\u001b[39;49m\u001b[43mloc\u001b[49m\u001b[43m[\u001b[49m\u001b[43mi\u001b[49m\u001b[43m,\u001b[49m\u001b[43m \u001b[49m\u001b[38;5;124;43m\"\u001b[39;49m\u001b[38;5;124;43mgini_index\u001b[39;49m\u001b[38;5;124;43m\"\u001b[39;49m\u001b[43m]\u001b[49m \u001b[38;5;241m=\u001b[39m gini_index\n\u001b[1;32m     23\u001b[0m results_gini_df[\u001b[38;5;124m\"\u001b[39m\u001b[38;5;124maso_pairs\u001b[39m\u001b[38;5;124m\"\u001b[39m] \u001b[38;5;241m=\u001b[39m pairs\n\u001b[1;32m     24\u001b[0m results_gini_df[\u001b[38;5;124m\"\u001b[39m\u001b[38;5;124mnumber_of_union_genes\u001b[39m\u001b[38;5;124m\"\u001b[39m] \u001b[38;5;241m=\u001b[39m union\u001b[38;5;241m.\u001b[39mshape[\u001b[38;5;241m0\u001b[39m]\n",
      "File \u001b[0;32m~/mambaforge/envs/work/lib/python3.9/site-packages/pandas/core/indexing.py:881\u001b[0m, in \u001b[0;36m_LocationIndexer.__setitem__\u001b[0;34m(self, key, value)\u001b[0m\n\u001b[1;32m    879\u001b[0m \u001b[38;5;28;01melse\u001b[39;00m:\n\u001b[1;32m    880\u001b[0m     key \u001b[38;5;241m=\u001b[39m com\u001b[38;5;241m.\u001b[39mapply_if_callable(key, \u001b[38;5;28mself\u001b[39m\u001b[38;5;241m.\u001b[39mobj)\n\u001b[0;32m--> 881\u001b[0m indexer \u001b[38;5;241m=\u001b[39m \u001b[38;5;28;43mself\u001b[39;49m\u001b[38;5;241;43m.\u001b[39;49m\u001b[43m_get_setitem_indexer\u001b[49m\u001b[43m(\u001b[49m\u001b[43mkey\u001b[49m\u001b[43m)\u001b[49m\n\u001b[1;32m    882\u001b[0m \u001b[38;5;28mself\u001b[39m\u001b[38;5;241m.\u001b[39m_has_valid_setitem_indexer(key)\n\u001b[1;32m    884\u001b[0m iloc \u001b[38;5;241m=\u001b[39m \u001b[38;5;28mself\u001b[39m \u001b[38;5;28;01mif\u001b[39;00m \u001b[38;5;28mself\u001b[39m\u001b[38;5;241m.\u001b[39mname \u001b[38;5;241m==\u001b[39m \u001b[38;5;124m\"\u001b[39m\u001b[38;5;124miloc\u001b[39m\u001b[38;5;124m\"\u001b[39m \u001b[38;5;28;01melse\u001b[39;00m \u001b[38;5;28mself\u001b[39m\u001b[38;5;241m.\u001b[39mobj\u001b[38;5;241m.\u001b[39miloc\n",
      "File \u001b[0;32m~/mambaforge/envs/work/lib/python3.9/site-packages/pandas/core/indexing.py:756\u001b[0m, in \u001b[0;36m_LocationIndexer._get_setitem_indexer\u001b[0;34m(self, key)\u001b[0m\n\u001b[1;32m    753\u001b[0m         \u001b[38;5;28;01mreturn\u001b[39;00m ax\u001b[38;5;241m.\u001b[39mget_loc(key)\n\u001b[1;32m    755\u001b[0m \u001b[38;5;28;01mif\u001b[39;00m \u001b[38;5;28misinstance\u001b[39m(key, \u001b[38;5;28mtuple\u001b[39m):\n\u001b[0;32m--> 756\u001b[0m     \u001b[38;5;28;01mwith\u001b[39;00m \u001b[43msuppress\u001b[49m\u001b[43m(\u001b[49m\u001b[43mIndexingError\u001b[49m\u001b[43m)\u001b[49m:\n\u001b[1;32m    757\u001b[0m         \u001b[38;5;66;03m# suppress \"Too many indexers\"\u001b[39;00m\n\u001b[1;32m    758\u001b[0m         \u001b[38;5;28;01mreturn\u001b[39;00m \u001b[38;5;28mself\u001b[39m\u001b[38;5;241m.\u001b[39m_convert_tuple(key)\n\u001b[1;32m    760\u001b[0m \u001b[38;5;28;01mif\u001b[39;00m \u001b[38;5;28misinstance\u001b[39m(key, \u001b[38;5;28mrange\u001b[39m):\n\u001b[1;32m    761\u001b[0m     \u001b[38;5;66;03m# GH#45479 test_loc_setitem_range_key\u001b[39;00m\n",
      "File \u001b[0;32m~/mambaforge/envs/work/lib/python3.9/contextlib.py:376\u001b[0m, in \u001b[0;36msuppress.__init__\u001b[0;34m(self, *exceptions)\u001b[0m\n\u001b[1;32m    365\u001b[0m \u001b[38;5;28;01mclass\u001b[39;00m \u001b[38;5;21;01msuppress\u001b[39;00m(AbstractContextManager):\n\u001b[1;32m    366\u001b[0m \u001b[38;5;250m    \u001b[39m\u001b[38;5;124;03m\"\"\"Context manager to suppress specified exceptions\u001b[39;00m\n\u001b[1;32m    367\u001b[0m \n\u001b[1;32m    368\u001b[0m \u001b[38;5;124;03m    After the exception is suppressed, execution proceeds with the next\u001b[39;00m\n\u001b[0;32m   (...)\u001b[0m\n\u001b[1;32m    373\u001b[0m \u001b[38;5;124;03m         # Execution still resumes here if the file was already removed\u001b[39;00m\n\u001b[1;32m    374\u001b[0m \u001b[38;5;124;03m    \"\"\"\u001b[39;00m\n\u001b[0;32m--> 376\u001b[0m     \u001b[38;5;28;01mdef\u001b[39;00m \u001b[38;5;21m__init__\u001b[39m(\u001b[38;5;28mself\u001b[39m, \u001b[38;5;241m*\u001b[39mexceptions):\n\u001b[1;32m    377\u001b[0m         \u001b[38;5;28mself\u001b[39m\u001b[38;5;241m.\u001b[39m_exceptions \u001b[38;5;241m=\u001b[39m exceptions\n\u001b[1;32m    379\u001b[0m     \u001b[38;5;28;01mdef\u001b[39;00m \u001b[38;5;21m__enter__\u001b[39m(\u001b[38;5;28mself\u001b[39m):\n",
      "\u001b[0;31mKeyboardInterrupt\u001b[0m: "
     ]
    }
   ],
   "source": [
    "results_gini_df_ips = gini(aso_list=ips_expr_filt[\"target.gapmerID\"].unique(), exp=\"ips\")"
   ]
  },
  {
   "cell_type": "code",
   "execution_count": null,
   "id": "2f0024bb-ee27-432b-9bcc-ff90b0358692",
   "metadata": {},
   "outputs": [],
   "source": [
    "results_gini_df_ips.shape"
   ]
  },
  {
   "cell_type": "code",
   "execution_count": 172,
   "id": "739cca89-3397-4317-bc0a-7890072fa019",
   "metadata": {
    "scrolled": true
   },
   "outputs": [
    {
     "data": {
      "text/html": [
       "<div>\n",
       "<style scoped>\n",
       "    .dataframe tbody tr th:only-of-type {\n",
       "        vertical-align: middle;\n",
       "    }\n",
       "\n",
       "    .dataframe tbody tr th {\n",
       "        vertical-align: top;\n",
       "    }\n",
       "\n",
       "    .dataframe thead th {\n",
       "        text-align: right;\n",
       "    }\n",
       "</style>\n",
       "<table border=\"1\" class=\"dataframe\">\n",
       "  <thead>\n",
       "    <tr style=\"text-align: right;\">\n",
       "      <th></th>\n",
       "      <th>gini_index</th>\n",
       "      <th>aso_pairs</th>\n",
       "    </tr>\n",
       "  </thead>\n",
       "  <tbody>\n",
       "    <tr>\n",
       "      <th>0</th>\n",
       "      <td>0.0</td>\n",
       "      <td>(G0234787_08, R0057746_03)</td>\n",
       "    </tr>\n",
       "    <tr>\n",
       "      <th>1</th>\n",
       "      <td>0.0</td>\n",
       "      <td>(G0234787_08, G0254635_01)</td>\n",
       "    </tr>\n",
       "    <tr>\n",
       "      <th>2</th>\n",
       "      <td>0.0</td>\n",
       "      <td>(G0234787_08, G0253352_AD_01)</td>\n",
       "    </tr>\n",
       "    <tr>\n",
       "      <th>3</th>\n",
       "      <td>0.0</td>\n",
       "      <td>(G0234787_08, G0253352_02)</td>\n",
       "    </tr>\n",
       "    <tr>\n",
       "      <th>4</th>\n",
       "      <td>0.0</td>\n",
       "      <td>(G0234787_08, G0267040_02)</td>\n",
       "    </tr>\n",
       "    <tr>\n",
       "      <th>...</th>\n",
       "      <td>...</td>\n",
       "      <td>...</td>\n",
       "    </tr>\n",
       "    <tr>\n",
       "      <th>33406</th>\n",
       "      <td>0.002845</td>\n",
       "      <td>(G0247556_05, G0269821_02)</td>\n",
       "    </tr>\n",
       "    <tr>\n",
       "      <th>33407</th>\n",
       "      <td>0.003968</td>\n",
       "      <td>(G0247556_05, G0230844_AD_07)</td>\n",
       "    </tr>\n",
       "    <tr>\n",
       "      <th>33408</th>\n",
       "      <td>0.144578</td>\n",
       "      <td>(G0224843_01, G0269821_02)</td>\n",
       "    </tr>\n",
       "    <tr>\n",
       "      <th>33409</th>\n",
       "      <td>0.160134</td>\n",
       "      <td>(G0224843_01, G0230844_AD_07)</td>\n",
       "    </tr>\n",
       "    <tr>\n",
       "      <th>33410</th>\n",
       "      <td>0.196985</td>\n",
       "      <td>(G0269821_02, G0230844_AD_07)</td>\n",
       "    </tr>\n",
       "  </tbody>\n",
       "</table>\n",
       "<p>33411 rows × 2 columns</p>\n",
       "</div>"
      ],
      "text/plain": [
       "      gini_index                      aso_pairs\n",
       "0            0.0     (G0234787_08, R0057746_03)\n",
       "1            0.0     (G0234787_08, G0254635_01)\n",
       "2            0.0  (G0234787_08, G0253352_AD_01)\n",
       "3            0.0     (G0234787_08, G0253352_02)\n",
       "4            0.0     (G0234787_08, G0267040_02)\n",
       "...          ...                            ...\n",
       "33406   0.002845     (G0247556_05, G0269821_02)\n",
       "33407   0.003968  (G0247556_05, G0230844_AD_07)\n",
       "33408   0.144578     (G0224843_01, G0269821_02)\n",
       "33409   0.160134  (G0224843_01, G0230844_AD_07)\n",
       "33410   0.196985  (G0269821_02, G0230844_AD_07)\n",
       "\n",
       "[33411 rows x 2 columns]"
      ]
     },
     "execution_count": 172,
     "metadata": {},
     "output_type": "execute_result"
    }
   ],
   "source": [
    "results_gini_df_ips"
   ]
  },
  {
   "cell_type": "code",
   "execution_count": 178,
   "id": "d583d6c0-8033-4355-aa64-3b2ac95ace32",
   "metadata": {},
   "outputs": [
    {
     "data": {
      "text/plain": [
       "(340,)"
      ]
     },
     "execution_count": 178,
     "metadata": {},
     "output_type": "execute_result"
    }
   ],
   "source": [
    "fibro_expr.columns[2:].shape"
   ]
  },
  {
   "cell_type": "code",
   "execution_count": 180,
   "id": "4fb14746-ff58-4936-a868-c750ff20392a",
   "metadata": {},
   "outputs": [
    {
     "data": {
      "text/plain": [
       "(259,)"
      ]
     },
     "execution_count": 180,
     "metadata": {},
     "output_type": "execute_result"
    }
   ],
   "source": [
    "ips_expr_filt[\"target.gapmerID\"].unique().shape"
   ]
  },
  {
   "cell_type": "code",
   "execution_count": 346,
   "id": "dfdd0873-e9c0-448b-a0cd-771755188a3b",
   "metadata": {},
   "outputs": [
    {
     "data": {
      "text/html": [
       "<div>\n",
       "<style scoped>\n",
       "    .dataframe tbody tr th:only-of-type {\n",
       "        vertical-align: middle;\n",
       "    }\n",
       "\n",
       "    .dataframe tbody tr th {\n",
       "        vertical-align: top;\n",
       "    }\n",
       "\n",
       "    .dataframe thead th {\n",
       "        text-align: right;\n",
       "    }\n",
       "</style>\n",
       "<table border=\"1\" class=\"dataframe\">\n",
       "  <thead>\n",
       "    <tr style=\"text-align: right;\">\n",
       "      <th></th>\n",
       "      <th>fibro</th>\n",
       "      <th>ips</th>\n",
       "    </tr>\n",
       "  </thead>\n",
       "  <tbody>\n",
       "    <tr>\n",
       "      <th>0</th>\n",
       "      <td>0.079493</td>\n",
       "      <td>0.0</td>\n",
       "    </tr>\n",
       "    <tr>\n",
       "      <th>1</th>\n",
       "      <td>0.051208</td>\n",
       "      <td>0.0</td>\n",
       "    </tr>\n",
       "    <tr>\n",
       "      <th>2</th>\n",
       "      <td>0.002283</td>\n",
       "      <td>0.0</td>\n",
       "    </tr>\n",
       "    <tr>\n",
       "      <th>3</th>\n",
       "      <td>0.049144</td>\n",
       "      <td>0.0</td>\n",
       "    </tr>\n",
       "    <tr>\n",
       "      <th>4</th>\n",
       "      <td>0.070841</td>\n",
       "      <td>0.0</td>\n",
       "    </tr>\n",
       "  </tbody>\n",
       "</table>\n",
       "</div>"
      ],
      "text/plain": [
       "      fibro  ips\n",
       "0  0.079493  0.0\n",
       "1  0.051208  0.0\n",
       "2  0.002283  0.0\n",
       "3  0.049144  0.0\n",
       "4  0.070841  0.0"
      ]
     },
     "execution_count": 346,
     "metadata": {},
     "output_type": "execute_result"
    }
   ],
   "source": [
    "gini_plot_df = pd.DataFrame({\"fibro\":results_gini_df_fibro[\"gini_index\"], \"ips\":results_gini_df_ips[\"gini_index\"]})\n",
    "gini_plot_df = gini_plot_df.astype(float)\n",
    "gini_plot_df.head()"
   ]
  },
  {
   "cell_type": "code",
   "execution_count": 347,
   "id": "9bb574cd-7e96-4795-9e58-2e2980c74d46",
   "metadata": {},
   "outputs": [
    {
     "data": {
      "text/plain": [
       "(57630, 2)"
      ]
     },
     "execution_count": 347,
     "metadata": {},
     "output_type": "execute_result"
    }
   ],
   "source": [
    "gini_plot_df.shape"
   ]
  },
  {
   "cell_type": "code",
   "execution_count": 348,
   "id": "e3ac5482-4201-4474-85d1-3de4fce16e94",
   "metadata": {},
   "outputs": [
    {
     "data": {
      "text/plain": [
       "<matplotlib.legend.Legend at 0x7facad10e8e0>"
      ]
     },
     "execution_count": 348,
     "metadata": {},
     "output_type": "execute_result"
    },
    {
     "data": {
      "image/png": "[encoded data removed]",
      "text/plain": [
       "<Figure size 640x480 with 1 Axes>"
      ]
     },
     "metadata": {},
     "output_type": "display_data"
    }
   ],
   "source": [
    "ax = sns.kdeplot(gini_plot_df[\"fibro\"].dropna(), clip=(0,0.05), label=\"Fibro\")#,  log_scale=True, alpha=1, palette=[\"r\"]) #binwidth=0.01,\n",
    "ax.set_title('Distribution (density) of the Gini index for fibroblasts/IPS DEG')\n",
    "sns.kdeplot(gini_plot_df[\"ips\"].dropna(), clip=(0,0.05), label=\"IPS\")#,  log_scale=True, alpha=1, palette=[\"r\"]) #binwidth=0.01,\n",
    "plt.legend()"
   ]
  },
  {
   "cell_type": "code",
   "execution_count": null,
   "id": "3f9d30de-1291-435b-bfff-5d2542265f19",
   "metadata": {},
   "outputs": [],
   "source": []
  }
 ],
 "metadata": {
  "kernelspec": {
   "display_name": "Python 3 (ipykernel)",
   "language": "python",
   "name": "python3"
  },
  "language_info": {
   "codemirror_mode": {
    "name": "ipython",
    "version": 3
   },
   "file_extension": ".py",
   "mimetype": "text/x-python",
   "name": "python",
   "nbconvert_exporter": "python",
   "pygments_lexer": "ipython3",
   "version": "3.9.18"
  }
 },
 "nbformat": 4,
 "nbformat_minor": 5
}
